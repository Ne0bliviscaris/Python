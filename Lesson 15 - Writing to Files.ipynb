{
 "cells": [
  {
   "cell_type": "code",
   "execution_count": null,
   "metadata": {},
   "outputs": [],
   "source": [
    "#https://youtu.be/rfscVS0vtbw?si=v5qGIcgOV7nPDxgy&t=12086\n",
    "#Timestamp 3:21:26 - Writing to Files"
   ]
  },
  {
   "cell_type": "code",
   "execution_count": 27,
   "metadata": {},
   "outputs": [],
   "source": [
    "#Dopisywanie do istniejącego pliku\n",
    "employee_file = open(\"../learning/Tools/Lesson 14 - Employees.txt\",\"a\")             #parametr \"a\" - append, \"w\" - overwrite\n",
    "new_employee = input(\"Insert name and function\")\n",
    "employee_file.write(f\"\\n{new_employee}\")                                            #dopisuje new_employee na końcu pliku ( \\n od nowej linii)\n",
    "employee_file.close() "
   ]
  },
  {
   "cell_type": "code",
   "execution_count": 30,
   "metadata": {},
   "outputs": [],
   "source": [
    "#Tworzenie nowego pliku (Lesson 15)\n",
    "employee_file = open(\"../learning/Tools/Lesson 15 - Employees.txt\",\"w\")             #otwarcie nieistniejącego pliku powoduje jego utworzenie\n",
    "new_employee = input(\"Insert name and function\")\n",
    "employee_file.write(f\"\\n{new_employee}\")                                            #wielokrotne uruchomienie kodu pozostawi jedną linię w pliku\n",
    "employee_file.close() "
   ]
  },
  {
   "cell_type": "code",
   "execution_count": null,
   "metadata": {},
   "outputs": [],
   "source": []
  }
 ],
 "metadata": {
  "kernelspec": {
   "display_name": "Python 3",
   "language": "python",
   "name": "python3"
  },
  "language_info": {
   "codemirror_mode": {
    "name": "ipython",
    "version": 3
   },
   "file_extension": ".py",
   "mimetype": "text/x-python",
   "name": "python",
   "nbconvert_exporter": "python",
   "pygments_lexer": "ipython3",
   "version": "3.11.5"
  }
 },
 "nbformat": 4,
 "nbformat_minor": 2
}
