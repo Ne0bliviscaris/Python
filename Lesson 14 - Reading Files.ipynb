{
 "cells": [
  {
   "cell_type": "code",
   "execution_count": null,
   "metadata": {},
   "outputs": [],
   "source": [
    "#https://youtu.be/rfscVS0vtbw?si=FJRHiN0Ao8N6F89R&t=11563\n",
    "#Timestamp 3:12:43 - Reading Files"
   ]
  },
  {
   "cell_type": "code",
   "execution_count": 7,
   "metadata": {},
   "outputs": [
    {
     "name": "stdout",
     "output_type": "stream",
     "text": [
      "<_io.TextIOWrapper name='Tools/Lesson 14 - Employees.txt' mode='r' encoding='cp1250'>\n"
     ]
    }
   ],
   "source": [
    "#Otwieranie pliku\n",
    "employee_file = open(\"Tools/Lesson 14 - Employees.txt\", \"r\")                           #\"r\" - read, \"w\" - write, \"a\" - append, \"r+\" - read/write\n",
    "print(employee_file)\n",
    "employee_file.close()                                                                  #po użyciu plik musi zostać zamknięty \n"
   ]
  }
 ],
 "metadata": {
  "kernelspec": {
   "display_name": "Python 3",
   "language": "python",
   "name": "python3"
  },
  "language_info": {
   "codemirror_mode": {
    "name": "ipython",
    "version": 3
   },
   "file_extension": ".py",
   "mimetype": "text/x-python",
   "name": "python",
   "nbconvert_exporter": "python",
   "pygments_lexer": "ipython3",
   "version": "3.11.5"
  }
 },
 "nbformat": 4,
 "nbformat_minor": 2
}
