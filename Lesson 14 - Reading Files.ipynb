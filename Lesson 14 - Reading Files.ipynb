{
 "cells": [
  {
   "cell_type": "code",
   "execution_count": null,
   "metadata": {},
   "outputs": [],
   "source": [
    "# https://youtu.be/rfscVS0vtbw?si=FJRHiN0Ao8N6F89R&t=11563\n",
    "# Timestamp 3:12:43 - Reading Files"
   ]
  }
 ],
 "metadata": {
  "language_info": {
   "name": "python"
  }
 },
 "nbformat": 4,
 "nbformat_minor": 2
}
