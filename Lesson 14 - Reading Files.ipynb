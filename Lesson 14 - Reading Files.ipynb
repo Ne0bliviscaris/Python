{
 "cells": [
  {
   "cell_type": "code",
   "execution_count": null,
   "metadata": {},
   "outputs": [],
   "source": [
    "#https://youtu.be/rfscVS0vtbw?si=FJRHiN0Ao8N6F89R&t=11563\n",
    "#Timestamp 3:12:43 - Reading Files"
   ]
  },
  {
   "cell_type": "code",
   "execution_count": 43,
   "metadata": {},
   "outputs": [
    {
     "name": "stdout",
     "output_type": "stream",
     "text": [
      "Jim - Salesman\n",
      "Dwight - Salesman\n",
      "Pam - Receptionist\n",
      "Michael - Manager\n",
      "Oscar - Accountant\n"
     ]
    }
   ],
   "source": [
    "#Otwieranie pliku\n",
    "employee_file = open(\"../learning/Tools/Lesson 14 - Employees.txt\", \"r\")      #\"r\" - read, \"w\" - write, \"a\" - append, \"r+\" - read/write\n",
    "print(employee_file.read())                                                   #.read() odczytuje całą treść pliku jako string\n",
    "#print(employee_file.readline())                                               #.readline() odczytuje linię po linii\n",
    "#print(employee_file.readline())                                               #wielokrotne użycie nie daje wyników po przekroczeniu długości pliku\n",
    "\n",
    "employee_file.close()                                                          #po użyciu plik musi zostać zamknięty "
   ]
  },
  {
   "cell_type": "code",
   "execution_count": 42,
   "metadata": {},
   "outputs": [
    {
     "name": "stdout",
     "output_type": "stream",
     "text": [
      "Oscar - Accountant\n"
     ]
    }
   ],
   "source": [
    "#Otwieranie pliku\n",
    "employee_file = open(\"../learning/Tools/Lesson 14 - Employees.txt\", \"r\")               #\"r\" - read, \"w\" - write, \"a\" - append, \"r+\" - read/write\n",
    "#print(employee_file.read())\n",
    "print(employee_file.readlines()[4])                                                    #.readlines()[index] odczytuje linie jako listę\n"
   ]
  },
  {
   "cell_type": "code",
   "execution_count": 52,
   "metadata": {},
   "outputs": [
    {
     "name": "stdout",
     "output_type": "stream",
     "text": [
      "Employee nr 0 - Jim - Salesman\n",
      "\n",
      "Employee nr 1 - Dwight - Salesman\n",
      "\n",
      "Employee nr 2 - Pam - Receptionist\n",
      "\n",
      "Employee nr 3 - Michael - Manager\n",
      "\n",
      "Employee nr 4 - Oscar - Accountant\n"
     ]
    }
   ],
   "source": [
    "employee_file = open(\"../learning/Tools/Lesson 14 - Employees.txt\", \"r\")\n",
    "count=0  \n",
    "for employee in employee_file.readlines():                                     #wykonaj zawartość pętli dla każdej komórki z listy employee_file\n",
    "    print(f\"Employee nr {count} - {employee}\" )\n",
    "    count+=1"
   ]
  }
 ],
 "metadata": {
  "kernelspec": {
   "display_name": "Python 3",
   "language": "python",
   "name": "python3"
  },
  "language_info": {
   "codemirror_mode": {
    "name": "ipython",
    "version": 3
   },
   "file_extension": ".py",
   "mimetype": "text/x-python",
   "name": "python",
   "nbconvert_exporter": "python",
   "pygments_lexer": "ipython3",
   "version": "3.11.5"
  }
 },
 "nbformat": 4,
 "nbformat_minor": 2
}
