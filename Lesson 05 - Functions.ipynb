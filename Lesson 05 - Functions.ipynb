{
 "cells": [
  {
   "cell_type": "code",
   "execution_count": null,
   "metadata": {},
   "outputs": [],
   "source": [
    "#https://youtu.be/rfscVS0vtbw?si=la3zi0x_8vtpV6SE&t=5055\n",
    "#Timestamp 1:24:15 - Functions"
   ]
  },
  {
   "cell_type": "code",
   "execution_count": 6,
   "metadata": {},
   "outputs": [
    {
     "name": "stdout",
     "output_type": "stream",
     "text": [
      "Hello, Mat!\n"
     ]
    }
   ],
   "source": [
    "#deklaracja funkcji sayhello()\n",
    "def sayhello ():                                                            #dwukropek otwiera wcięcie, wszystko wcięte przynależy do funkcji\n",
    "    person = input(\"What's your name?\")                                     #nazewnictwo jak najprostsze, przedzielone _\n",
    "    print(\"Hello, \" +person+\"!\")\n",
    "    \n",
    "sayhello()"
   ]
  },
  {
   "cell_type": "code",
   "execution_count": 21,
   "metadata": {},
   "outputs": [
    {
     "name": "stdout",
     "output_type": "stream",
     "text": [
      "Hello, Mateusz! You are 29, right?\n",
      "Hello, Marta! You are 26, right?\n",
      "Hello, Też Mateusz ale z listy! You are still 29, right?\n"
     ]
    }
   ],
   "source": [
    "#deklaracja funkcji sayhello()\n",
    "def sayhello (name, age):                                                          #dodanie parametrów do funkcji\n",
    "    print(\"Hello, \" +name+\"! You are \" +str(age) +\", right?\")                      #str(age) konwertuje liczby na tekst\n",
    "    \n",
    "sayhello(\"Mateusz\", 29)                                                            #wywołanie funkcji z użyciem parametrów\n",
    "sayhello(\"Marta\", 26)\n",
    "list=(\"Też Mateusz, ale z listy\",\"still 29\")                                       \n",
    "sayhello(list[0],list[1])                                                          #wywołanie funkcji z parametrami z listy"
   ]
  },
  {
   "cell_type": "code",
   "execution_count": 38,
   "metadata": {},
   "outputs": [
    {
     "name": "stdout",
     "output_type": "stream",
     "text": [
      "4096\n"
     ]
    }
   ],
   "source": [
    "#szescian liczby\n",
    "def cube(num):\n",
    "    return num*num*num                                                             #return kończy działanie funkcji\n",
    "    print(\"return kończy działanie funkcji\")                                       #nic po nim nie zostanie wykonane w ramach funkcji\n",
    "\n",
    "cubed = cube(16)                                                                   #wykonanie funkcji w ramach zmiennej\n",
    "print(cubed)\n"
   ]
  }
 ],
 "metadata": {
  "kernelspec": {
   "display_name": "Python 3",
   "language": "python",
   "name": "python3"
  },
  "language_info": {
   "codemirror_mode": {
    "name": "ipython",
    "version": 3
   },
   "file_extension": ".py",
   "mimetype": "text/x-python",
   "name": "python",
   "nbconvert_exporter": "python",
   "pygments_lexer": "ipython3",
   "version": "3.11.5"
  }
 },
 "nbformat": 4,
 "nbformat_minor": 2
}
