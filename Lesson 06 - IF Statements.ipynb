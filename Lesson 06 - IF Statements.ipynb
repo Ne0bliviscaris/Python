{
 "cells": [
  {
   "cell_type": "code",
   "execution_count": null,
   "metadata": {},
   "outputs": [],
   "source": [
    "#https://youtu.be/rfscVS0vtbw?si=rqMbjtcQdP3i0Rd9&t=6006            \n",
    "#Timestamp 1:40:06 - IF Statements "
   ]
  },
  {
   "cell_type": "code",
   "execution_count": 9,
   "metadata": {},
   "outputs": [
    {
     "name": "stdout",
     "output_type": "stream",
     "text": [
      "true\n"
     ]
    }
   ],
   "source": [
    "#Instrukcja warunkowa if\n",
    "is_male= True\n",
    "if is_male:                                                         #sprawdzanie wartości boolean\n",
    "    print(\"true\")\n",
    "else:\n",
    "    print(\"false\")\n"
   ]
  },
  {
   "cell_type": "code",
   "execution_count": 13,
   "metadata": {},
   "outputs": [
    {
     "name": "stdout",
     "output_type": "stream",
     "text": [
      "You are a tall female\n"
     ]
    }
   ],
   "source": [
    "#Zagnieżdżanie warunków\n",
    "is_male = False\n",
    "is_tall = True\n",
    "if is_male:                                                         \n",
    "    if is_tall:\n",
    "        print(\"You are a tall male\")\n",
    "    else:\n",
    "        print(\"You are a short male\")\n",
    "else:\n",
    "    if is_tall:\n",
    "        print(\"You are a tall female\")\n",
    "    else:\n",
    "        print(\"You are a short female\")"
   ]
  },
  {
   "cell_type": "code",
   "execution_count": 15,
   "metadata": {},
   "outputs": [
    {
     "name": "stdout",
     "output_type": "stream",
     "text": [
      "you are neither male nor tall\n"
     ]
    }
   ],
   "source": [
    "#Instrukcja warunkowa OR\n",
    "is_male = False\n",
    "is_tall = False\n",
    "if is_male or is_tall:                                                          #Warunek OR - minimum jeden warunek spełniony\n",
    "    print(\"you are either male or tall\")\n",
    "else:\n",
    "    print(\"you are neither male nor tall\")"
   ]
  },
  {
   "cell_type": "code",
   "execution_count": 17,
   "metadata": {},
   "outputs": [
    {
     "name": "stdout",
     "output_type": "stream",
     "text": [
      "you are male and tall\n"
     ]
    }
   ],
   "source": [
    "#Instrukcja warunkowa AND\n",
    "is_male = True\n",
    "is_tall = True\n",
    "if is_male and is_tall:                                                          #Warunek AND - oba warunki spełnione\n",
    "    print(\"you are male and tall\")\n",
    "else:\n",
    "    print(\"you are either small, not male or both\")"
   ]
  },
  {
   "cell_type": "code",
   "execution_count": 21,
   "metadata": {},
   "outputs": [
    {
     "name": "stdout",
     "output_type": "stream",
     "text": [
      "you are a small female\n"
     ]
    }
   ],
   "source": [
    "#Instrukcja else if - ELIF\n",
    "is_male = False\n",
    "is_tall = False\n",
    "if is_male and is_tall:                                                          #Warunek AND\n",
    "    print(\"you are male and tall\")\n",
    "elif is_male and not(is_tall):                                                   #else if is_male=1, is_tall=0\n",
    "    print(\"you are a small male\")\n",
    "elif not(is_male) and is_tall:                                                   #else if is_male=0, is_tall=1\n",
    "    print(\"you are a tall female\")\n",
    "else:                                                                            #else is_male=0 OR is_tall=0\n",
    "    print(\"you are a small female\")"
   ]
  }
 ],
 "metadata": {
  "kernelspec": {
   "display_name": "Python 3",
   "language": "python",
   "name": "python3"
  },
  "language_info": {
   "codemirror_mode": {
    "name": "ipython",
    "version": 3
   },
   "file_extension": ".py",
   "mimetype": "text/x-python",
   "name": "python",
   "nbconvert_exporter": "python",
   "pygments_lexer": "ipython3",
   "version": "3.11.5"
  }
 },
 "nbformat": 4,
 "nbformat_minor": 2
}
