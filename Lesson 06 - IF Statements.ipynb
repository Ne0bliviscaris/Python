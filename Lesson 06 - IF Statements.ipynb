{
 "cells": [
  {
   "cell_type": "code",
   "execution_count": null,
   "metadata": {},
   "outputs": [],
   "source": [
    "#https://youtu.be/rfscVS0vtbw?si=rqMbjtcQdP3i0Rd9&t=6006            \n",
    "#Timestamp 1:40:06, If Statements\n"
   ]
  }
 ],
 "metadata": {
  "language_info": {
   "name": "python"
  }
 },
 "nbformat": 4,
 "nbformat_minor": 2
}
