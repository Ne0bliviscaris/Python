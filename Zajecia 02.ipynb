{
 "cells": [
  {
   "cell_type": "code",
   "execution_count": null,
   "metadata": {},
   "outputs": [],
   "source": [
    "#https://github.com/szymonmackowiak/lectures-and-courses/blob/main/programming-in-python/solutions-pl/zadania-2.ipynb\n",
    "#19.11.2023"
   ]
  },
  {
   "cell_type": "code",
   "execution_count": 3,
   "metadata": {},
   "outputs": [
    {
     "name": "stdout",
     "output_type": "stream",
     "text": [
      "100\n",
      "5000\n"
     ]
    }
   ],
   "source": [
    "#Deklaracja listy i wywołanie indeksu\n",
    "lista=[100,200,300,400,5000]\n",
    "print(lista[0])                                              #listy indeksowane są od zera\n",
    "print(lista[-1])                                             #indeks [-1] to ostatni element listy"
   ]
  },
  {
   "cell_type": "code",
   "execution_count": 11,
   "metadata": {},
   "outputs": [
    {
     "name": "stdout",
     "output_type": "stream",
     "text": [
      "Cześć 123!\n",
      "Cześć 456!\n",
      "Cześć 789!\n",
      "Cześć 896!\n",
      "Cześć 326!\n"
     ]
    }
   ],
   "source": [
    "#Zadanie 2.1\n",
    "#Napisz program, który poprosi użytkownika o podanie swojego imienia 5 razy.\n",
    "#Program zapisze odpowiedzi do listy, następnie wyświetli komunikat \"Cześć {imie}!!\".\n",
    "imiona=[]\n",
    "imiona.append(input(\"Podaj imię 1: \"))\n",
    "imiona.append(input(\"Podaj imię 2: \"))\n",
    "imiona.append(input(\"Podaj imię 3: \"))\n",
    "imiona.append(input(\"Podaj imię 4: \"))\n",
    "imiona.append(input(\"Podaj imię 5: \"))\n",
    "print(f\"Cześć {imiona[0]}!\")\n",
    "print(f\"Cześć {imiona[1]}!\")\n",
    "print(f\"Cześć {imiona[2]}!\")\n",
    "print(f\"Cześć {imiona[3]}!\")\n",
    "print(f\"Cześć {imiona[4]}!\")\n"
   ]
  },
  {
   "cell_type": "code",
   "execution_count": 17,
   "metadata": {},
   "outputs": [
    {
     "name": "stdout",
     "output_type": "stream",
     "text": [
      "cokolwiek 1: 1, ostatnie cokolwiek: 4\n"
     ]
    }
   ],
   "source": [
    "#Zadanie 2.2\n",
    "#Napisz program, który przyjmie od użytkownika 5 wartości, wprowadzi je do listy,\n",
    "#a następnie wyświetli pierwszy i ostatni element. Zaproponuj dwa sposoby wykonania tego zadania.\n",
    "lista=[]\n",
    "lista.append(input(\"Wpisz cokolwiek\"))\n",
    "lista.append(input(\"Wpisz cokolwiek\"))\n",
    "lista.append(input(\"Wpisz cokolwiek\"))\n",
    "lista.append(input(\"Wpisz cokolwiek\"))\n",
    "lista.append(input(\"Wpisz cokolwiek\"))\n",
    "#Sposób 1 - indeks [-1]\n",
    "print(f\"pierwsze cokolwiek: {lista[0]}, ostatnie cokolwiek: {lista[-1]}.\")\n",
    "#Sposób 2 - sprawdzenie długości listy\n",
    "len(lista)\n",
    "print(f\"cokolwiek 1: {lista[0]}, ostatnie cokolwiek: {lista[len(lista)-1]}\")"
   ]
  },
  {
   "cell_type": "code",
   "execution_count": 24,
   "metadata": {},
   "outputs": [
    {
     "name": "stdout",
     "output_type": "stream",
     "text": [
      "Suma: 2095.0, średnia wartość: 419.0\n"
     ]
    }
   ],
   "source": [
    "#Zadanie 2.3\n",
    "#Utwórz program, który pobierze od użytkownika 5 wartości, zapisze je do listy, następnie obliczy ich sumę i średnią i wypisze je na ekranie.\n",
    "lista=[]\n",
    "lista.append(float(input(\"Podaj liczby\")))\n",
    "lista.append(float(input(\"Podaj liczby\")))\n",
    "lista.append(float(input(\"Podaj liczby\")))\n",
    "lista.append(float(input(\"Podaj liczby\")))\n",
    "lista.append(float(input(\"Podaj liczby\")))\n",
    "print(f\"Suma: {sum(lista)}, średnia wartość: {sum(lista)/len(lista)}\")"
   ]
  },
  {
   "cell_type": "code",
   "execution_count": 26,
   "metadata": {},
   "outputs": [
    {
     "name": "stdout",
     "output_type": "stream",
     "text": [
      "<class 'list'>\n"
     ]
    }
   ],
   "source": [
    "#Zadanie 2.4\n",
    "#Napisz program, w którym do listy przypisane zostaną 4 zmienne różnych typów, a następnie zostaną wyświetlone na ekranie.\n",
    "lista=[]\n",
    "lista.append(str(input(\"Podaj tekst:\")))\n",
    "lista.append(int(input(\"Podaj liczbę całkowitą\")))\n",
    "lista.append(float(input(\"Podaj liczbę rzeczywistą\")))\n",
    "print(list)"
   ]
  },
  {
   "cell_type": "markdown",
   "metadata": {},
   "source": [
    "Zadanie 2.5\n",
    "Rozważ następującą listę:\n",
    "\n",
    "dane = [1, 1, 3, 2, 4, 6, 5, 3, 2, 1, 6, 50, 2, 3]\n",
    "\n",
    "Napisz program, który:\n",
    "\n",
    "wyświetli utworzoną listę\n",
    "określi i wyświetli długość listy (liczbę przechowywanych elementów) (funkcja len()),\n",
    "wyświetli 4 pierwsze wartości (operator :),\n",
    "zliczy i wyświetli ile w liście znajduje się wartości 1, 2 i 3 (metoda count()),\n",
    "sprawdzi czy lista zawiera wartość 6 (instrukcja in),\n",
    "wstawi na miejsce po trzecim elemencie wartość -100 (metoda insert()) i wyświetli zaktualizowaną listę,\n",
    "usunie ostatni element w liście (instrukcja del) i wyświetli zaktualizowaną listę,\n",
    "usunie wartość 50 (metoda remove()) i wyświetli zaktualizowaną listę,\n",
    "wyciągnie pierwszy element z listy (metoda pop()) i wyświetli zaktualizowaną listę,\n",
    "utworzy kopię listy dane i odwróci ich kolejność (metoda reverse()) i wyświetli otrzymaną listę,\n",
    "utworzy kopię listy dane i posortuje jej elementy (metoda sort()) i wyświetli otrzymaną listę."
   ]
  },
  {
   "cell_type": "code",
   "execution_count": 75,
   "metadata": {},
   "outputs": [
    {
     "name": "stdout",
     "output_type": "stream",
     "text": [
      "[1, 1, 3, 2, 4, 6, 5, 3, 2, 1, 6, 50, 2, 3]\n",
      "14\n",
      "[1, 1, 3, 2]\n",
      "jedynka pojawia się 3 razy, dwójka 3 razy, a trójka 3 razy.\n",
      "Sprawdzenie czy na liście jest 6 zwraca wartość True\n",
      "[1, 1, -100, 3, 2, 4, 6, 5, 3, 2, 1, 6, 50, 2, 3]\n",
      "po usunięciu ostatniego elementu: [1, 1, -100, 3, 2, 4, 6, 5, 3, 2, 1, 6, 50, 2]\n",
      "po usunięciu wartości 50: [1, 1, -100, 3, 2, 4, 6, 5, 3, 2, 1, 6, 2]\n",
      "po dane.pop(): [1, -100, 3, 2, 4, 6, 5, 3, 2, 1, 6, 2]\n"
     ]
    },
    {
     "data": {
      "text/plain": [
       "[1, -100, 3, 2, 4, 6, 5, 3, 2, 1, 6, 2]"
      ]
     },
     "execution_count": 75,
     "metadata": {},
     "output_type": "execute_result"
    }
   ],
   "source": [
    "dane = [1, 1, 3, 2, 4, 6, 5, 3, 2, 1, 6, 50, 2, 3]\n",
    "#wyświetli utworzoną listę\n",
    "print(dane)\n",
    "#określi i wyświetli długość listy (liczbę przechowywanych elementów) (funkcja len())\n",
    "print(len(dane))\n",
    "#wyświetli 4 pierwsze wartości (operator :)\n",
    "print(dane[0:4])\n",
    "#zliczy i wyświetli ile w liście znajduje się wartości 1, 2 i 3 (metoda count())\n",
    "print(f\"jedynka pojawia się {dane.count(1)} razy, dwójka {dane.count(2)} razy, a trójka {dane.count(3)} razy.\")\n",
    "#sprawdzi czy lista zawiera wartość 6 (instrukcja in)\n",
    "print(f\"Sprawdzenie czy na liście jest 6 zwraca wartość\", 6 in dane)\n",
    "#wstawi na miejsce po trzecim elemencie wartość -100 (metoda insert()) i wyświetli zaktualizowaną listę\n",
    "dane.insert(2, -100)\n",
    "print(dane)\n",
    "#usunie ostatni element w liście (instrukcja del) i wyświetli zaktualizowaną listę\n",
    "del dane[-1]\n",
    "print(f\"po usunięciu ostatniego elementu: {dane}\")\n",
    "#usunie wartość 50 (metoda remove()) i wyświetli zaktualizowaną listę\n",
    "dane.remove(50)\n",
    "print(f\"po usunięciu wartości 50: {dane}\")\n",
    "#wyciągnie pierwszy element z listy (metoda pop()) i wyświetli zaktualizowaną listę\n",
    "dane.pop(0)\n",
    "print(f\"po dane.pop(): {dane}\")\n",
    "#utworzy kopię listy dane i odwróci ich kolejność (metoda reverse()) i wyświetli otrzymaną listę\n",
    "dane.copy()"
   ]
  },
  {
   "cell_type": "markdown",
   "metadata": {},
   "source": [
    "Krotki\n",
    "Krotki (tuples) to kolejny typ sekwencyjny - podobny do listy, posiadający jednak pewne istotne różnice:\n",
    "\n",
    "krotkę tworzymy korzystając z nawiasów okrągłych (a nie kwadratowych jak w przypadku list),\n",
    "zasadniczo wartości przechowywanych w krotkach nie można zmieniać. Nie można również dodawać elementów do ktorek,\n",
    "krotki służą do przechowywania niezmiennych elementów\n",
    "Krotki mogą przydatne wówczas, gdy chcemy dzielić z innymi użytkownikami (lub procesami) dane, ale nie chcemy zezwolić na ich modyfikację.\n",
    "\n",
    "Mechanizm ochorony danych w krotkach można jednak obejść poprzez nadpisywanie na dotychczasowej krotce nowej krotki.\n",
    "\n",
    "Do elementów krotki mamy dostęp (tak jak w przypadku list) za pośrednictwem indeksu.\n",
    "\n",
    "Krotki mogą przechowywać dane różnych typów.\n",
    "\n",
    "Przegląd najważniejszych metod i funkcji działających na krotkach:\n",
    "\n",
    "count() - zlicza wystąpienia wskazanej wartości w krotce\n",
    "index() - zwraca indeks pierwszej wskazanej wartości w krotce"
   ]
  },
  {
   "cell_type": "code",
   "execution_count": 80,
   "metadata": {},
   "outputs": [
    {
     "data": {
      "text/plain": [
       "1"
      ]
     },
     "execution_count": 80,
     "metadata": {},
     "output_type": "execute_result"
    }
   ],
   "source": [
    "#Krotki są niemodyfikowalne\n",
    "krotka = (100, 200, 300, 400, 500)\n",
    "krotka[1]\n",
    "krotka."
   ]
  },
  {
   "cell_type": "code",
   "execution_count": 91,
   "metadata": {},
   "outputs": [
    {
     "name": "stdout",
     "output_type": "stream",
     "text": [
      "A\n",
      "Alfred ma kota\n",
      "Ala ma kota\n"
     ]
    },
    {
     "data": {
      "text/plain": [
       "11"
      ]
     },
     "execution_count": 91,
     "metadata": {},
     "output_type": "execute_result"
    }
   ],
   "source": [
    "#Zmienna tekstowa działa jak lista znaków\n",
    "a = \"Ala ma kota\"\n",
    "print(a[0])\n",
    "print(a.replace(\"Ala\", \"Alfred\"))\n",
    "print(a)\n",
    "len(a)"
   ]
  },
  {
   "cell_type": "markdown",
   "metadata": {},
   "source": [
    "Zadanie 2.8\n",
    "Napisz program, którzy przyjmie od użytkownika dowolne zdanie. Następnie program wyświetli ile znaków zawiera wprowadzony tekst oraz ile zjaduje się w nim spacji."
   ]
  },
  {
   "cell_type": "code",
   "execution_count": 101,
   "metadata": {},
   "outputs": [
    {
     "name": "stdout",
     "output_type": "stream",
     "text": [
      "Podany tekst ma 447341 znaków, a spacji:\n",
      "74293\n"
     ]
    }
   ],
   "source": [
    "text = str(input(\"Podaj tekst\"))\n",
    "print(f\"Podany tekst ma {len(text)} znaków, a spacji:\")\n",
    "print(text.count(\" \"))"
   ]
  },
  {
   "cell_type": "markdown",
   "metadata": {},
   "source": [
    "Zadanie 2.9\n",
    "Napisz program, który pobierze od użytkownika dowolny tekst, a następnie:\n",
    "\n",
    "wyświetli informację, czy wszystkie litery w tekście są wielkie,\n",
    "wyświetli informację, czy wszystkie litery w tekście są małe,\n",
    "zastąpi pierwsze 3 znaki słowem \"ABC\"."
   ]
  },
  {
   "cell_type": "code",
   "execution_count": 117,
   "metadata": {},
   "outputs": [
    {
     "name": "stdout",
     "output_type": "stream",
     "text": [
      "False\n",
      "True\n",
      "aABC\n",
      "asd\n"
     ]
    }
   ],
   "source": [
    "text=\"\"\n",
    "text=input(\"Podaj tekst\")\n",
    "#wyświetli informację, czy wszystkie litery w tekście są wielkie\n",
    "print(text.isupper())\n",
    "#wyświetli informację, czy wszystkie litery w tekście są małe\n",
    "print(text.islower())\n",
    "#zastąpi pierwsze 3 znaki słowem \"ABC\"\n",
    "print(text.replace(text[1:3], 'ABC'))\n",
    "print(text)"
   ]
  },
  {
   "cell_type": "markdown",
   "metadata": {},
   "source": [
    "Słowniki\n",
    "Słownik (dictionary) to struktura danych zawierająca przypisane do siebie pary klucz : wartość. W obrębie słownika do przechowywanych elementów mamy dostęp nie za pośrednictwem indeksu, ale za pośrednictwem tzw. klucza. Klucz w słowniku nie może się powtarzać. Elementy w słowniku nie są uporządkowane (nie są ułożone po kolei tak jak to było w listach, krotkach i napisach). Innymi słowy - kolejność nie ma znaczenia. Elementy słownika mogą mieć różne typy. Dotyczy to rówież klucza (wszystko może być kluczem bądź wartością). Słowniki możemy edytować - dodawać do nich elementy oraz je modyfikować. Słowniki inicjalizujemy korzystając ze znaku klamer {}, pary kluczy i wartości są łączone drukropkiem, kolejne elementy słownika rozdzielane przecinkiem.\n",
    "\n",
    "Przykład:\n",
    "\n",
    "slownik = {klucz1 : wartosc1, klucz2 : wartosc2, klucz3 : wartosc3}\n",
    "\n",
    "Kolejne elementy do słownika możemy prowadzać odnosząc się do nazwy słownika, w nawiasie kwadratowym wprowadzić nowy klucz a po operatorze przypisania podać wartość.\n",
    "\n",
    "Przykład:\n",
    "\n",
    "slownik[wartosc4] = klucz4\n",
    "\n",
    "Przegląd najważniejszych metod działających na słownikach:\n",
    "\n",
    "clear() - usuwa wszystkie elementy ze słownika (składnia: slownik.clear()),\n",
    "copy() - zwraca kopię słownika (składnia slownik.copy()),\n",
    "fromkeys(keys, values) - zwraca słownik na postawie podanych zbiorów kluczy i wartości (składnia: slownik.fromkeys(klucze, wartosci)),\n",
    "get() - zwraca wartość dla danego klucza (składnia: slownik.get()),\n",
    "items() - zwraca listę krotek wszystkich par kluczy i wartości (składnia: slownik.items()),\n",
    "pop(key) - wyciąga i usuwa wskazaną wartość (na podstawie klucza) (skladnia: slownik.pop(klucz)),\n",
    "popitem() - wyciąga i usuwa ostatnią wprowadzoną parę klucz-wartość (składnia: slownik.popitem()),\n",
    "setdefault(key) - zwraca wartość dla danego klucza. Jeżeli klucz nie istnieje - wstawia klucz (ten, który został wywołany) (składnia: slownik.setdefault(klucz)),\n",
    "update(key: value) - pozwala na dodawanie do słownika kolejnych par klucz-wartość (składnia: slownik.update({klucz: wartość)}),\n",
    "values() - zwraca wszystkie wartości ze słownika (składnia: słownik.values())."
   ]
  },
  {
   "cell_type": "code",
   "execution_count": 122,
   "metadata": {},
   "outputs": [
    {
     "data": {
      "text/plain": [
       "'A'"
      ]
     },
     "execution_count": 122,
     "metadata": {},
     "output_type": "execute_result"
    }
   ],
   "source": [
    "#Tworzenie słownika\n",
    "slownik = {1:\"A\", 2:\"B\", 3:\"C\"}\n",
    "#pod elementem 1 w słowniku kryje się A\n",
    "slownik [1]"
   ]
  },
  {
   "cell_type": "code",
   "execution_count": 124,
   "metadata": {},
   "outputs": [
    {
     "name": "stdout",
     "output_type": "stream",
     "text": [
      "Wybrany miesiąc to Grudzień\n"
     ]
    }
   ],
   "source": [
    "#Zadanie2.11\n",
    "#Utwórz program, który wykorzystując słownik, będzie pobierać od użytkownika numer miesiąca,\n",
    "#a wyświetlać na ekranie będzie jego nazwę w formie tekstowej.\n",
    "nazwy={1:\"Styczeń\", 2:\"Luty\", 3:\"Marzec\", 4:\"Kwiecień\", 5:\"Maj\", 6:\"Czerwiec\", 7:\"Lipiec\", 8:\"Sierpień\", 9:\"Wrzesień\", 10:\"Październik\", 11:\"Listopad\", 12:\"Grudzień\"}\n",
    "mc=int(input(\"Podaj nr miesiaca\"))\n",
    "print(f\"Wybrany miesiąc to {nazwy[mc]}\")"
   ]
  },
  {
   "cell_type": "code",
   "execution_count": 140,
   "metadata": {},
   "outputs": [
    {
     "name": "stdout",
     "output_type": "stream",
     "text": [
      "podana liczba to zero.\n"
     ]
    }
   ],
   "source": [
    "#Zadanie 2.12\n",
    "#Utwórz program, który wykorzystując słownik, będzie tłumaczyć liczby 0-10 na słowa.\n",
    "liczby={0:\"zero\", 1:\"jeden\", 2:\"dwa\", 3:\"trzy\", 4:\"cztery\",5:\"pięć\",6:\"sześć\",7:\"siedem\",8:\"osiem\",9:\"dziewięć\",10:\"dziesięć\"}\n",
    "li=int(input(\"podaj od 0 to 10\"))\n",
    "print(f\"Podana liczba to {liczby[li]}.\")"
   ]
  },
  {
   "cell_type": "code",
   "execution_count": 174,
   "metadata": {},
   "outputs": [
    {
     "name": "stdout",
     "output_type": "stream",
     "text": [
      "trzy\n",
      "dwa\n",
      "jeden\n",
      "trzy\n",
      "pięć\n"
     ]
    }
   ],
   "source": [
    "#Zadanie 2.14\n",
    "#Napisz program, który wprowadzoną przez użytkownika liczbę 5-cyfrową wyświetli w formie słownej (np. 12345 - jeden dwa trzy cztery pięć).\n",
    "cyfry={0:\"zero\", 1:\"jeden\", 2:\"dwa\", 3:\"trzy\", 4:\"cztery\",5:\"pięć\",6:\"sześć\",7:\"siedem\",8:\"osiem\",9:\"dziewięć\"}\n",
    "liczba=input(\"Podaj liczbę 5-cyfrową\")\n",
    "print(cyfry[int(liczba[0])])\n",
    "print(cyfry[int(liczba[1])])\n",
    "print(cyfry[int(liczba[2])])\n",
    "print(cyfry[int(liczba[3])])\n",
    "print(cyfry[int(liczba[4])])\n",
    "\n"
   ]
  },
  {
   "cell_type": "markdown",
   "metadata": {},
   "source": [
    "Zbiory\n",
    "Zbiór to kolejny typ sekwencyjny. Posiada ważną własność - jego elementy nie mogą się powtarzać. Podobnie jak słowniki - są nieuporządkowane (kolejność elementów jest bez znaczenia). Zbiory są edytowalne - możemy dodawać bądź usuwać elementy ze zbioru. Zbiory inicjalizujemy z wykorzystaniem funkcji set() lub wprowadzająć zestaw danych otoczonych klamrami {}. Kolejne elementy zbioru są rozdzielone przecinkiem. Mogą przechowywać elementy dowolnych typów. Nie mamy możliwości wywoływania określonych elementów - zbiory nie posiadają ani indeksów ani kluczy. Możemy za to wykonywać działania na zbiorach.\n",
    "\n",
    "Przykład\n",
    "\n",
    "a = {1, 2, 3, 2.1, 2, 3, 4, \"4\"}\n",
    "\n",
    "Przegląd najważniejszych metod i funkcji działających na zbiorach:\n",
    "\n",
    "add() - dodaje element do zbioru (składnia: zbior.add(element)),\n",
    "clear() - usuwa wszystkie elementy ze zbioru (składnia: zbior.clear()),\n",
    "copy() - zwraca kopię zbioru (składnia: zbior.copy()),\n",
    "difference() - zwraca różnicę zbiorów (składnia: zbior1.difference(zbior2)),\n",
    "difference_update() - usuwa elementy ze zbioru, które są obecne w drugim zbiorze (składnia: zbior1.difference_update(zbior2)),\n",
    "discard() - usuwa wskazany element (składnia: zbior.discard(element))\n",
    "intersection() - zwraca część wspólną zbiorów (składnia: zbior1.intersection(zbior2)),\n",
    "intersection_update() - usuwa ze zbioru elementy nieobecne w drugim (składnia: zbior1.intersection_update(zbior2)),\n",
    "isdisjoint() - zwraca informację czy zbiory posiadają część wspólną czy nie (składnia: zbior1.isdisjoint(zbior2)),\n",
    "issubset() - zwraca informację czy zbiór jest podzbiorem drugiego (składnia: zbior1.issubset(zbior2)),\n",
    "issuperset() - zwraca informację czy zbiór zawiera się w drugim (składnia: zbior1.issuperset(zbior2)),\n",
    "pop() - zwraca i usuwa pewien element ze zbioru (składnia: zbior.pop()),\n",
    "remove() - usuwa wskazany element ze zbioru (składnia: zbior.remove(element)),\n",
    "symmetric_difference() - zwraca różnicę symetryczną zbiorów (składnia: zbior1.symmetric_difference(zbior2)),\n",
    "symmetric_difference_update() - usuwa elementy obecne w obu zbiorach oraz wstawia elementy, które nie są obecne w obu zbiorach (składnia: zbior1.symmetric_difference_update(zbior2)),\n",
    "union() - zwraca zbiór zawierający wszystkie elementy z pierwszego i drugiego zbioru(składnia: zbior1.union(zbior2)),\n",
    "update() - wstawia elementy jednego zbioru do drugiego zbioru (składnia: zbior1.update(zbior2))."
   ]
  },
  {
   "cell_type": "code",
   "execution_count": 181,
   "metadata": {},
   "outputs": [
    {
     "data": {
      "text/plain": [
       "set"
      ]
     },
     "execution_count": 181,
     "metadata": {},
     "output_type": "execute_result"
    }
   ],
   "source": [
    "a = {1, 2, 3, 2.1, 2, 3, 4, \"4\"}\n",
    "type(a)"
   ]
  },
  {
   "cell_type": "code",
   "execution_count": 189,
   "metadata": {},
   "outputs": [
    {
     "name": "stdout",
     "output_type": "stream",
     "text": [
      "zbior 1 {'4', '321', '2', '123'}\n",
      "zbior 2 {'1', '4', '2', '3'}\n",
      "suma: {'4', '1', '3', '123', '321', '2'}\n",
      "różnica: {'321', '123'}\n",
      "część wspólna: {'4', '2'}\n"
     ]
    }
   ],
   "source": [
    "#Zadanie 2.16\n",
    "#Napisz program, w którym użytkownik poda po 4 elementy (liczby całkowite) do dwóch różnych zbiorów. Natępnie program wyświetli:\n",
    "#sumę zbiorów\n",
    "#różnicę zbiorów\n",
    "#część wspólną zbiorów.\n",
    "zbior = set()\n",
    "zbior2= set()\n",
    "type(zbior)\n",
    "\n",
    "zbior.add(input(\"Podaj element 1 zbioru 1\"))\n",
    "zbior.add(input(\"Podaj element 2 zbioru 1\"))\n",
    "zbior.add(input(\"Podaj element 3 zbioru 1\"))\n",
    "zbior.add(input(\"Podaj element 4 zbioru 1\"))\n",
    "print(f\"zbior 1 {zbior}\")\n",
    "zbior2.add(input(\"Podaj element 1 zbioru 2\"))\n",
    "zbior2.add(input(\"Podaj element 2 zbioru 2\"))\n",
    "zbior2.add(input(\"Podaj element 3 zbioru 2\"))\n",
    "zbior2.add(input(\"Podaj element 4 zbioru 2\"))\n",
    "print(f\"zbior 2 {zbior2}\")\n",
    "#sumę zbiorów\n",
    "print(f\"suma: {zbior.union(zbior2)}\")\n",
    "#różnicę zbiorów\n",
    "print(f\"różnica: {zbior.difference(zbior2)}\")\n",
    "#część wspólną zbiorów\n",
    "print(f\"część wspólna: {zbior.intersection(zbior2)}\")"
   ]
  },
  {
   "cell_type": "markdown",
   "metadata": {},
   "source": [
    "Konwersja typów sekwencyjnych\n",
    "Aby dokonać konwersji jednego typu sekwencyjnego na drugi korzystami z instrukcji:\n",
    "\n",
    "konwersja na listę: list(krotka albo zbiór)\n",
    "konwersja na zbiór: set(krotka albo lista)\n",
    "konwersja na krotkę: tuple(lista albo zbiór)"
   ]
  }
 ],
 "metadata": {
  "kernelspec": {
   "display_name": "Python 3",
   "language": "python",
   "name": "python3"
  },
  "language_info": {
   "codemirror_mode": {
    "name": "ipython",
    "version": 3
   },
   "file_extension": ".py",
   "mimetype": "text/x-python",
   "name": "python",
   "nbconvert_exporter": "python",
   "pygments_lexer": "ipython3",
   "version": "3.11.5"
  }
 },
 "nbformat": 4,
 "nbformat_minor": 2
}
