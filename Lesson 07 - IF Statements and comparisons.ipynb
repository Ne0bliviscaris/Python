{
 "cells": [
  {
   "cell_type": "code",
   "execution_count": null,
   "metadata": {},
   "outputs": [],
   "source": [
    "#https://youtu.be/rfscVS0vtbw?si=3GOkumonAg6XkndV&t=6847\n",
    "#Timestamp 1:54:07 - IF Statements and Comparisons"
   ]
  },
  {
   "cell_type": "code",
   "execution_count": null,
   "metadata": {},
   "outputs": [],
   "source": [
    "#Największa liczba\n",
    "def max_num(num1, num2, num3):\n",
    "    if num1 >= num2 and num1 >= num3:                                                   #if num1 największy\n",
    "        return num1\n",
    "    elif num2 >= num1 and num2 >= num3:                                                 #if num2 największy\n",
    "        return num2\n",
    "    else:                                                                               #if num3 największy\n",
    "        return num3\n",
    "    \n",
    "max_num(1,2,3)"
   ]
  },
  {
   "cell_type": "code",
   "execution_count": 56,
   "metadata": {},
   "outputs": [
    {
     "data": {
      "text/plain": [
       "'wszystkie słowa są różne'"
      ]
     },
     "execution_count": 56,
     "metadata": {},
     "output_type": "execute_result"
    }
   ],
   "source": [
    "#Porównanie słów:\n",
    "def word_compare(word1, word2, word3):\n",
    "    if word1 == word2 == word3:                                                         #porównywanie ciągów tekstu\n",
    "        return \"wszystkie słowa są takie same\"                                          # == sprawdza, czy zmienne są równe\n",
    "    elif word1 == word2:\n",
    "        return \"słowa 1 i 2 są takie same\"\n",
    "    elif word1 == word3:\n",
    "        return \"słowa 1 i 3 są takie same\"\n",
    "    elif word2 == word3:\n",
    "        return \"słowa 2 i 3 są takie same\"\n",
    "    else:\n",
    "        return \"wszystkie słowa są różne\"\n",
    "\n",
    "word_compare(\"słowo1\",\"słowo2\",\"słowo3\")\n",
    "\n",
    "    \n"
   ]
  },
  {
   "cell_type": "code",
   "execution_count": 81,
   "metadata": {},
   "outputs": [
    {
     "ename": "ValueError",
     "evalue": "could not convert string to float: 'liczba zmiennoprzecikowa 12.1'",
     "output_type": "error",
     "traceback": [
      "\u001b[1;31m---------------------------------------------------------------------------\u001b[0m",
      "\u001b[1;31mValueError\u001b[0m                                Traceback (most recent call last)",
      "\u001b[1;32mc:\\Users\\Dragon\\Projekty GitHub\\learning\\Lesson 07 - IF Statements and comparisons.ipynb Komórka 4\u001b[0m line \u001b[0;36m1\n\u001b[0;32m     <a href='vscode-notebook-cell:/c%3A/Users/Dragon/Projekty%20GitHub/learning/Lesson%2007%20-%20IF%20Statements%20and%20comparisons.ipynb#X15sZmlsZQ%3D%3D?line=12'>13</a>\u001b[0m     \u001b[39melse\u001b[39;00m:\n\u001b[0;32m     <a href='vscode-notebook-cell:/c%3A/Users/Dragon/Projekty%20GitHub/learning/Lesson%2007%20-%20IF%20Statements%20and%20comparisons.ipynb#X15sZmlsZQ%3D%3D?line=13'>14</a>\u001b[0m         \u001b[39mreturn\u001b[39;00m \u001b[39m\"\u001b[39m\u001b[39mInvalid request. Please check if you have chosen a proper operation type and numbers\u001b[39m\u001b[39m\"\u001b[39m\n\u001b[0;32m     <a href='vscode-notebook-cell:/c%3A/Users/Dragon/Projekty%20GitHub/learning/Lesson%2007%20-%20IF%20Statements%20and%20comparisons.ipynb#X15sZmlsZQ%3D%3D?line=15'>16</a>\u001b[0m calculator(\n\u001b[0;32m     <a href='vscode-notebook-cell:/c%3A/Users/Dragon/Projekty%20GitHub/learning/Lesson%2007%20-%20IF%20Statements%20and%20comparisons.ipynb#X15sZmlsZQ%3D%3D?line=16'>17</a>\u001b[0m     \u001b[39minput\u001b[39m(\u001b[39m\"\u001b[39m\u001b[39mThanks for using our calculator!\u001b[39m\u001b[39m\\n\u001b[39;00m\u001b[39m\\n\u001b[39;00m\u001b[39mType + to add\u001b[39m\u001b[39m\\n\u001b[39;00m\u001b[39mType - to subtract\u001b[39m\u001b[39m\\n\u001b[39;00m\u001b[39mType * to multiply\u001b[39m\u001b[39m\\n\u001b[39;00m\u001b[39mType / to divide\u001b[39m\u001b[39m\\n\u001b[39;00m\u001b[39m\\n\u001b[39;00m\u001b[39mHave fun!\u001b[39m\u001b[39m\"\u001b[39m),\n\u001b[0;32m     <a href='vscode-notebook-cell:/c%3A/Users/Dragon/Projekty%20GitHub/learning/Lesson%2007%20-%20IF%20Statements%20and%20comparisons.ipynb#X15sZmlsZQ%3D%3D?line=17'>18</a>\u001b[0m     \u001b[39minput\u001b[39m(\u001b[39m\"\u001b[39m\u001b[39mEnter first number\u001b[39m\u001b[39m\"\u001b[39m),                                            \u001b[39m#długie ciągi można rozdzielać na kilka linii\u001b[39;00m\n\u001b[1;32m---> <a href='vscode-notebook-cell:/c%3A/Users/Dragon/Projekty%20GitHub/learning/Lesson%2007%20-%20IF%20Statements%20and%20comparisons.ipynb#X15sZmlsZQ%3D%3D?line=18'>19</a>\u001b[0m     \u001b[39mfloat\u001b[39;49m(\u001b[39minput\u001b[39;49m(\u001b[39m\"\u001b[39;49m\u001b[39mEnter second number\u001b[39;49m\u001b[39m\"\u001b[39;49m))                                     \u001b[39m#input bedzie traktowany jak liczba zmiennoprzecikowa\u001b[39;00m\n\u001b[0;32m     <a href='vscode-notebook-cell:/c%3A/Users/Dragon/Projekty%20GitHub/learning/Lesson%2007%20-%20IF%20Statements%20and%20comparisons.ipynb#X15sZmlsZQ%3D%3D?line=19'>20</a>\u001b[0m )\n",
      "\u001b[1;31mValueError\u001b[0m: could not convert string to float: 'liczba zmiennoprzecikowa 12.1'"
     ]
    }
   ],
   "source": [
    "#Kalkulator\n",
    "\n",
    "def calculator(operation,num1,num2):\n",
    "    if operation == \"+\":\n",
    "        #return num1+num2                                               #domyślnie num1 i num2 są traktowane jako string\n",
    "        return int(num1)+num2                                           # int to liczby calkowite\n",
    "    elif operation == \"-\":                                              # float to liczby zmiennoprzecinkowe\n",
    "        return int(num1)-num2                                           # kalkulator obsluguje liczby zmiennoprzecikowe jedynie jako num2\n",
    "    elif operation == \"*\":\n",
    "        return int(num1)*num2\n",
    "    elif operation == \"/\":\n",
    "        return int(num1)/num2\n",
    "    else:\n",
    "        return \"Invalid request. Please check if you have chosen a proper operation type and numbers\"\n",
    "\n",
    "calculator(\n",
    "    input(\"Thanks for using our calculator!\\n\\nType + to add\\nType - to subtract\\nType * to multiply\\nType / to divide\\n\\nHave fun!\"),\n",
    "    input(\"Enter first number\"),                                            #długie ciągi można rozdzielać na kilka linii\n",
    "    float(input(\"Enter second number\"))                                     #input będzie traktowany jak liczba zmiennoprzecikowa\n",
    ")                                                                           #umieszczenie tekstu wywoła błąd\n",
    "\n"
   ]
  }
 ],
 "metadata": {
  "language_info": {
   "name": "python"
  }
 },
 "nbformat": 4,
 "nbformat_minor": 2
}
