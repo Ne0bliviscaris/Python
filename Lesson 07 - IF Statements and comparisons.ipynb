{
 "cells": [
  {
   "cell_type": "code",
   "execution_count": null,
   "metadata": {},
   "outputs": [],
   "source": [
    "#https://youtu.be/rfscVS0vtbw?si=3GOkumonAg6XkndV&t=6847\n",
    "#Timestamp 1:54:07 - IF Statements and Comparisons"
   ]
  },
  {
   "cell_type": "code",
   "execution_count": null,
   "metadata": {},
   "outputs": [],
   "source": [
    "#Największa liczba\n",
    "def max_num(num1, num2, num3):\n",
    "    if num1 >= num2 and num1 >= num3:                                                   #if num1 największy\n",
    "        return num1\n",
    "    elif num2 >= num1 and num2 >= num3:                                                 #if num2 największy\n",
    "        return num2\n",
    "    else:                                                                               #if num3 największy\n",
    "        return num3\n",
    "    \n",
    "max_num(1,2,3)"
   ]
  },
  {
   "cell_type": "code",
   "execution_count": 56,
   "metadata": {},
   "outputs": [
    {
     "data": {
      "text/plain": [
       "'wszystkie słowa są różne'"
      ]
     },
     "execution_count": 56,
     "metadata": {},
     "output_type": "execute_result"
    }
   ],
   "source": [
    "#Porównanie słów:\n",
    "def word_compare(word1, word2, word3):\n",
    "    if word1 == word2 == word3:                                                         #porównywanie ciągów tekstu\n",
    "        return \"wszystkie słowa są takie same\"                                          # == sprawdza, czy zmienne są równe\n",
    "    elif word1 == word2:\n",
    "        return \"słowa 1 i 2 są takie same\"\n",
    "    elif word1 == word3:\n",
    "        return \"słowa 1 i 3 są takie same\"\n",
    "    elif word2 == word3:\n",
    "        return \"słowa 2 i 3 są takie same\"\n",
    "    else:\n",
    "        return \"wszystkie słowa są różne\"\n",
    "\n",
    "word_compare(\"słowo1\",\"słowo2\",\"słowo3\")\n",
    "\n",
    "    \n"
   ]
  }
 ],
 "metadata": {
  "language_info": {
   "name": "python"
  }
 },
 "nbformat": 4,
 "nbformat_minor": 2
}
