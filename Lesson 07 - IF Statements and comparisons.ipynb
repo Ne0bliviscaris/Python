{
 "cells": [
  {
   "cell_type": "code",
   "execution_count": null,
   "metadata": {},
   "outputs": [],
   "source": [
    "#https://youtu.be/rfscVS0vtbw?si=3GOkumonAg6XkndV&t=6847\n",
    "#Timestamp 1:54:07 - IF Statements and Comparisons"
   ]
  }
 ],
 "metadata": {
  "language_info": {
   "name": "python"
  }
 },
 "nbformat": 4,
 "nbformat_minor": 2
}
