{
 "cells": [
  {
   "cell_type": "code",
   "execution_count": 54,
   "metadata": {},
   "outputs": [
    {
     "name": "stdout",
     "output_type": "stream",
     "text": [
      "2.1534\n",
      "805\n",
      "1\n",
      "130\n",
      "10 moja liczba\n"
     ]
    }
   ],
   "source": [
    "#Operacje na liczbach\n",
    "print(2.1534)                               #liczby nie wymagaja cudzyslowow\n",
    "print((25-2)*35)                            #podstawowe obliczenia\n",
    "print(10 % 3)                               #dzielenie modulo, wyznaczenie reszty z dzielenia\n",
    "num=10\n",
    "print((3+num)*num)                          #obliczenia przy uzyciu zmiennej\n",
    "print(str(num) + \" moja liczba\")            #funkcja str(zmienna) zapisuje zmienna jako string umozliwiajac operacje na tekscie"
   ]
  },
  {
   "cell_type": "code",
   "execution_count": 55,
   "metadata": {},
   "outputs": [
    {
     "name": "stdout",
     "output_type": "stream",
     "text": [
      "5\n",
      "1024.0\n",
      "8\n",
      "2\n",
      "2\n",
      "2 to najnizsza wartosc macierzy\n",
      "66 to najwyzsza wartosc macierzy\n",
      "2\n",
      "3\n"
     ]
    }
   ],
   "source": [
    "num=-5\n",
    "print(abs(num))                                                              #funkcja abs(zmienna) - wartosc bezwzględna \n",
    "print(pow(2,10))                                                             #funkcja pow(podstawa potęgi, wykładnik potęgi)\n",
    "print(max(2,4,6,8))                                                          #funkcja max() wskazuje najwyzsza wartosc\n",
    "print(min(2,4,6,8))                                                          #funkcja min() wskazuje najnizsza wartosc\n",
    "matrix=(2,4,6,8,12,66)                                                       #deklaracja macierzy\n",
    "print(min(matrix))                                                           #funkcja min() na macierzy matrix\n",
    "print(str(min(matrix)) + \" to najnizsza wartosc macierzy\")                   #funkcja min() podstawiona do ciagu tekstowego\n",
    "print(str(max(matrix)) + \" to najwyzsza wartosc macierzy\")\n",
    "print(round(2.50))                                                           #zaokraglenie funkcja round()\n",
    "print(round(2.51))"
   ]
  },
  {
   "cell_type": "code",
   "execution_count": 56,
   "metadata": {},
   "outputs": [
    {
     "name": "stdout",
     "output_type": "stream",
     "text": [
      "3\n",
      "4\n",
      "3.0\n"
     ]
    }
   ],
   "source": [
    "from math import *                                                          #z biblioteki math importuj wszystko\n",
    "print(floor(3.9999))                                                        #funkcja floor() zaokragla w dol odcinajac czesc dziesietna\n",
    "print(ceil(3.00001))                                                        #funkcja ceil() zaokragla w gore\n",
    "print(sqrt(9))                                                              #funkcja sqrt() pierwiastkuje\n",
    "\n"
   ]
  }
 ],
 "metadata": {
  "kernelspec": {
   "display_name": "Python 3",
   "language": "python",
   "name": "python3"
  },
  "language_info": {
   "codemirror_mode": {
    "name": "ipython",
    "version": 3
   },
   "file_extension": ".py",
   "mimetype": "text/x-python",
   "name": "python",
   "nbconvert_exporter": "python",
   "pygments_lexer": "ipython3",
   "version": "3.11.5"
  },
  "orig_nbformat": 4
 },
 "nbformat": 4,
 "nbformat_minor": 2
}
