{
 "cells": [
  {
   "cell_type": "code",
   "execution_count": null,
   "metadata": {},
   "outputs": [],
   "source": [
    "#https://youtu.be/rfscVS0vtbw?si=zXjh-2wMc8CA2RXA&t=10361\n",
    "#Timestamp 2:52:41 - Building a Translator"
   ]
  },
  {
   "cell_type": "code",
   "execution_count": 62,
   "metadata": {},
   "outputs": [
    {
     "name": "stdout",
     "output_type": "stream",
     "text": [
      "C\n",
      "x\n",
      "s\n",
      " \n",
      "p\n",
      "r\n",
      "x\n",
      "s\n",
      "t\n",
      "s\n",
      "z\n",
      "e\n",
      "g\n",
      "x\n",
      ".\n",
      "None\n"
     ]
    }
   ],
   "source": [
    "vowels=[\"a\",\"i\",\"u\",\"e\",\"o\"]\n",
    "translate = {\n",
    "    \"a\":\"x\",\n",
    "    \"i\":'x',\n",
    "    'u':'x',\n",
    "    'e':'x',\n",
    "    'o':'x'\n",
    "}\n",
    "flag=False\n",
    "text = \"Cos prostszego.\"\n",
    "\n",
    "def translator(text):\n",
    "    for letter in text:                                                     #bierze 1 litere\n",
    "        for vowel in vowels:                                                #bierze 1 samogloske, bierze 2 samogloske itd\n",
    "            if letter == vowel:                                             #porownuje litere z samogloska\n",
    "                flag=True                                                   #jesli litera nadaje sie do podmiany, flaga oznaczona jako true\n",
    "            else:\n",
    "                flag=False                                                  #jesli litera nie nadaje sie do podmiany, flaga oznaczona jako false\n",
    "        if flag is True:                                                    #jesli litera jest oflagowana, printuje przetlumaczona\n",
    "            print(translate[letter])\n",
    "        else:\n",
    "            print(letter)                                                   #jesli litera jest nieoflagowana, printuje niezmieniona\n",
    "print(translator(text))"
   ]
  },
  {
   "cell_type": "code",
   "execution_count": 74,
   "metadata": {},
   "outputs": [
    {
     "name": "stdout",
     "output_type": "stream",
     "text": [
      "Cxs prxstszxgx\n",
      "None\n"
     ]
    }
   ],
   "source": [
    "def translator(text):\n",
    "    translation = \"\"\n",
    "    for letter in text:\n",
    "        if letter in \"aiueo\":\n",
    "            translation += \"x\"\n",
    "        else:\n",
    "            translation += letter\n",
    "    print(translation)\n",
    "\n",
    "text = \"Cos prostszego\"\n",
    "\n",
    "print(translator(text))"
   ]
  },
  {
   "cell_type": "code",
   "execution_count": 77,
   "metadata": {},
   "outputs": [
    {
     "name": "stdout",
     "output_type": "stream",
     "text": [
      "Cxs prxstszxgx\n"
     ]
    }
   ],
   "source": [
    "#Pomoc z zewnątrz - hard coded podmianki\n",
    "text = \"Cos prostszego\"\n",
    "print(text.replace(\"a\",\"x\")                                 #wielokrotne użycie metody .replace()\n",
    "    .replace(\"i\",\"x\")\n",
    "    .replace(\"u\",\"x\")\n",
    "    .replace(\"e\",\"x\")\n",
    "    .replace(\"o\",\"x\")\n",
    ")\n"
   ]
  }
 ],
 "metadata": {
  "kernelspec": {
   "display_name": "Python 3",
   "language": "python",
   "name": "python3"
  },
  "language_info": {
   "codemirror_mode": {
    "name": "ipython",
    "version": 3
   },
   "file_extension": ".py",
   "mimetype": "text/x-python",
   "name": "python",
   "nbconvert_exporter": "python",
   "pygments_lexer": "ipython3",
   "version": "3.11.5"
  }
 },
 "nbformat": 4,
 "nbformat_minor": 2
}
