{
 "cells": [
  {
   "cell_type": "code",
   "execution_count": 6,
   "metadata": {},
   "outputs": [
    {
     "name": "stdout",
     "output_type": "stream",
     "text": [
      "Patryk\n",
      "['Seba', 'Natalia', 'Jagoda']\n",
      "['Patryk', 'Karolina', 'Seba']\n",
      "['Patryk', 'Iza', 'Seba', 'Natalia', 'Jagoda']\n"
     ]
    }
   ],
   "source": [
    "#Praca z listami\n",
    "friends = [\"Patryk\",\"Karolina\",\"Seba\",\"Natalia\",\"Jagoda\"]                       #list[\"index0\",\"index1,\"index2]\n",
    "print(friends[0])                                                               #print(list[index])\n",
    "print(friends[2:])                                                              #zakres indeksow od 2 wlacznie do konca\n",
    "print(friends[:3])                                                              #indeksy wszystkie ponizej 3\n",
    "\n",
    "friends[1] = \"Iza\"                                                              #nadpisanie indeksu\n",
    "print(friends)"
   ]
  },
  {
   "cell_type": "code",
   "execution_count": 8,
   "metadata": {},
   "outputs": [
    {
     "name": "stdout",
     "output_type": "stream",
     "text": [
      "['Patryk', 'Karolina', 'Seba', 'Natalia', 'Jagoda', 1, 23, 26, 43, 48, 51]\n"
     ]
    }
   ],
   "source": [
    "#.extend() - łączenie list\n",
    "lucky_number = [1, 23, 26, 43, 48, 51]\n",
    "friends = [\"Patryk\",\"Karolina\",\"Seba\",\"Natalia\",\"Jagoda\"]\n",
    "friends.extend(lucky_number)                                                    #metoda extend(lista) przedłuża jedną listę o drugą\n",
    "print(friends)"
   ]
  },
  {
   "cell_type": "code",
   "execution_count": 12,
   "metadata": {},
   "outputs": [
    {
     "name": "stdout",
     "output_type": "stream",
     "text": [
      "['Patryk', 'Karolina', 'Seba', 'Natalia', 'Jagoda', 26, 'Iza']\n"
     ]
    }
   ],
   "source": [
    "#.append() - dodanie pozycji na koniec listy\n",
    "lucky_number = [1, 23, 26, 43, 48, 51]\n",
    "friends = [\"Patryk\",\"Karolina\",\"Seba\",\"Natalia\",\"Jagoda\"]\n",
    "friends.append(lucky_number[2])                                                 #.append() dodaje pozycję na koniec listy\n",
    "friends.append(\"Iza\")\n",
    "print(friends)"
   ]
  },
  {
   "cell_type": "code",
   "execution_count": 14,
   "metadata": {},
   "outputs": [
    {
     "name": "stdout",
     "output_type": "stream",
     "text": [
      "['Patryk', 26, 'Iza', 'Karolina', 'Seba', 'Natalia', 'Jagoda']\n"
     ]
    }
   ],
   "source": [
    "#.insert(indeks,\"pozycja\") - umieszczenie pozycji na danym indeksie\n",
    "lucky_number = [1, 23, 26, 43, 48, 51]\n",
    "friends = [\"Patryk\",\"Karolina\",\"Seba\",\"Natalia\",\"Jagoda\"]\n",
    "friends.insert(1,lucky_number[2])                                               #metoda .insert(numer indeksu, treść)\n",
    "friends.insert(2,\"Iza\")                                                \n",
    "print(friends)"
   ]
  },
  {
   "cell_type": "code",
   "execution_count": 22,
   "metadata": {},
   "outputs": [
    {
     "name": "stdout",
     "output_type": "stream",
     "text": [
      "['Patryk', 'Karolina', 'Seba', 'Seba', 'Seba', 'Natalia', 'Jagoda']\n"
     ]
    }
   ],
   "source": [
    "#.remove(\"pozycja\") - usunięcie pierwszego wystąpienia pozycji\n",
    "friends = [\"Patryk\",\"Karolina\",\"Seba\",\"Seba\",\"Seba\",\"Seba\",\"Natalia\",\"Jagoda\"]\n",
    "friends.remove(\"Seba\")                                                        #metoda .remove(\"pozycja\") usuwa pierwsze wystąpienie danej pozycji\n",
    "print(friends)\n"
   ]
  },
  {
   "cell_type": "code",
   "execution_count": 23,
   "metadata": {},
   "outputs": [
    {
     "name": "stdout",
     "output_type": "stream",
     "text": [
      "[]\n"
     ]
    }
   ],
   "source": [
    "#.clear() - wyczyszczenie listy\n",
    "friends = [\"Patryk\",\"Karolina\",\"Seba\",\"Natalia\",\"Jagoda\"]\n",
    "friends.clear() \n",
    "print(friends)"
   ]
  },
  {
   "cell_type": "code",
   "execution_count": 27,
   "metadata": {},
   "outputs": [
    {
     "name": "stdout",
     "output_type": "stream",
     "text": [
      "['Patryk', 'Karolina', 'Seba', 'Natalia']\n",
      "Jagoda\n"
     ]
    }
   ],
   "source": [
    "#.pop() - wyjęcie ostatniej pozycji z listy\n",
    "friends = [\"Patryk\",\"Karolina\",\"Seba\",\"Natalia\",\"Jagoda\"]\n",
    "popfriends = friends.pop() \n",
    "print(friends)                                                          #friends bez Jagody\n",
    "print(popfriends)                                                       #Jagoda na osobnej liście popfriends\n"
   ]
  },
  {
   "cell_type": "code",
   "execution_count": 32,
   "metadata": {},
   "outputs": [
    {
     "name": "stdout",
     "output_type": "stream",
     "text": [
      "2\n"
     ]
    },
    {
     "ename": "ValueError",
     "evalue": "'Magda' is not in list",
     "output_type": "error",
     "traceback": [
      "\u001b[1;31m---------------------------------------------------------------------------\u001b[0m",
      "\u001b[1;31mValueError\u001b[0m                                Traceback (most recent call last)",
      "\u001b[1;32mc:\\Users\\Dragon\\Projekty GitHub\\learning\\Lesson 04 - Lists.ipynb Komórka 8\u001b[0m line \u001b[0;36m4\n\u001b[0;32m      <a href='vscode-notebook-cell:/c%3A/Users/Dragon/Projekty%20GitHub/learning/Lesson%2004%20-%20Lists.ipynb#X14sZmlsZQ%3D%3D?line=1'>2</a>\u001b[0m friends \u001b[39m=\u001b[39m [\u001b[39m\"\u001b[39m\u001b[39mPatryk\u001b[39m\u001b[39m\"\u001b[39m,\u001b[39m\"\u001b[39m\u001b[39mKarolina\u001b[39m\u001b[39m\"\u001b[39m,\u001b[39m\"\u001b[39m\u001b[39mSeba\u001b[39m\u001b[39m\"\u001b[39m,\u001b[39m\"\u001b[39m\u001b[39mSeba\u001b[39m\u001b[39m\"\u001b[39m,\u001b[39m\"\u001b[39m\u001b[39mSeba\u001b[39m\u001b[39m\"\u001b[39m,\u001b[39m\"\u001b[39m\u001b[39mSeba\u001b[39m\u001b[39m\"\u001b[39m,\u001b[39m\"\u001b[39m\u001b[39mNatalia\u001b[39m\u001b[39m\"\u001b[39m,\u001b[39m\"\u001b[39m\u001b[39mJagoda\u001b[39m\u001b[39m\"\u001b[39m]\n\u001b[0;32m      <a href='vscode-notebook-cell:/c%3A/Users/Dragon/Projekty%20GitHub/learning/Lesson%2004%20-%20Lists.ipynb#X14sZmlsZQ%3D%3D?line=2'>3</a>\u001b[0m \u001b[39mprint\u001b[39m(friends\u001b[39m.\u001b[39mindex(\u001b[39m\"\u001b[39m\u001b[39mSeba\u001b[39m\u001b[39m\"\u001b[39m))\n\u001b[1;32m----> <a href='vscode-notebook-cell:/c%3A/Users/Dragon/Projekty%20GitHub/learning/Lesson%2004%20-%20Lists.ipynb#X14sZmlsZQ%3D%3D?line=3'>4</a>\u001b[0m \u001b[39mprint\u001b[39m(friends\u001b[39m.\u001b[39;49mindex(\u001b[39m\"\u001b[39;49m\u001b[39mMagda\u001b[39;49m\u001b[39m\"\u001b[39;49m))\n",
      "\u001b[1;31mValueError\u001b[0m: 'Magda' is not in list"
     ]
    }
   ],
   "source": [
    "#.index(\"Pozycja\") - indeks pierwszego wystąpienia danej pozycji\n",
    "friends = [\"Patryk\",\"Karolina\",\"Seba\",\"Seba\",\"Seba\",\"Seba\",\"Natalia\",\"Jagoda\"]\n",
    "print(friends.index(\"Seba\"))\n",
    "print(friends.index(\"Magda\"))                                            #Magda is not in list"
   ]
  },
  {
   "cell_type": "code",
   "execution_count": 37,
   "metadata": {},
   "outputs": [
    {
     "name": "stdout",
     "output_type": "stream",
     "text": [
      "3\n",
      "0\n"
     ]
    }
   ],
   "source": [
    "#.count() - liczenie powtarzających się pozycji\n",
    "friends = [\"Patryk\",\"Karolina\",\"Seba\",\"Seba\",\"Seba\",\"Seba B\",\"Natalia\",\"Jagoda\"]             #\"Seba B\" nie jest liczony jako \"Seba\"\n",
    "print(friends.count(\"Seba\"))\n",
    "print(friends.count(\"Magda\"))"
   ]
  },
  {
   "cell_type": "code",
   "execution_count": 44,
   "metadata": {},
   "outputs": [
    {
     "name": "stdout",
     "output_type": "stream",
     "text": [
      "['Jagoda', 'Karolina', 'Natalia', 'Patryk', 'Seba']\n",
      "[8, 51, 111, 143, 223, 626]\n"
     ]
    }
   ],
   "source": [
    "#.sort() - sortowanie w kolejności alfabetycznej/rosnaco\n",
    "friends = [\"Patryk\",\"Karolina\",\"Seba\",\"Natalia\",\"Jagoda\"]\n",
    "friends.sort()\n",
    "print(friends)       \n",
    "\n",
    "lucky_number = [111, 223, 626, 143, 8, 51]    \n",
    "lucky_number.sort()\n",
    "print(lucky_number)                                                                   "
   ]
  },
  {
   "cell_type": "code",
   "execution_count": 46,
   "metadata": {},
   "outputs": [
    {
     "name": "stdout",
     "output_type": "stream",
     "text": [
      "[51, 8, 143, 626, 223, 111]\n"
     ]
    }
   ],
   "source": [
    "#.reverse() - odwrocenie kolejnosci listy\n",
    "lucky_number = [111, 223, 626, 143, 8, 51]  \n",
    "lucky_number.reverse()\n",
    "print(lucky_number)"
   ]
  },
  {
   "cell_type": "code",
   "execution_count": 47,
   "metadata": {},
   "outputs": [
    {
     "name": "stdout",
     "output_type": "stream",
     "text": [
      "['Patryk', 'Karolina', 'Seba', 'Natalia', 'Jagoda']\n"
     ]
    }
   ],
   "source": [
    "#.copy() - kopia listy \n",
    "friends = [\"Patryk\",\"Karolina\",\"Seba\",\"Natalia\",\"Jagoda\"]\n",
    "friends2 = friends.copy()\n",
    "print(friends2)"
   ]
  },
  {
   "cell_type": "code",
   "execution_count": 12,
   "metadata": {},
   "outputs": [
    {
     "name": "stdout",
     "output_type": "stream",
     "text": [
      "są\n",
      "299 792 458 m/s\n"
     ]
    }
   ],
   "source": [
    "#krotka - (tuple) - niemodyfikowalna lista\n",
    "krotka = (\"krotki\",\"są\",\"niezmienne\")                           #krotki działają jak listy, ale ich zawartości nie można modyfikować\n",
    "print(krotka[1])                                                #listę tworzy się używając [ ], krotkę ( )\n",
    "\n",
    "predkosc_swiatla_w_prozni = (\"299 792 458 m/s\")\n",
    "print(predkosc_swiatla_w_prozni)"
   ]
  },
  {
   "cell_type": "code",
   "execution_count": 15,
   "metadata": {},
   "outputs": [
    {
     "name": "stdout",
     "output_type": "stream",
     "text": [
      "(6, 16)\n"
     ]
    }
   ],
   "source": [
    "wspolrzedne = [(1,15), (6,16), (7,17)]\n",
    "print(wspolrzedne[1])"
   ]
  }
 ],
 "metadata": {
  "kernelspec": {
   "display_name": "Python 3",
   "language": "python",
   "name": "python3"
  },
  "language_info": {
   "codemirror_mode": {
    "name": "ipython",
    "version": 3
   },
   "file_extension": ".py",
   "mimetype": "text/x-python",
   "name": "python",
   "nbconvert_exporter": "python",
   "pygments_lexer": "ipython3",
   "version": "3.11.5"
  },
  "orig_nbformat": 4
 },
 "nbformat": 4,
 "nbformat_minor": 2
}
