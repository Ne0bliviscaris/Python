{
 "cells": [
  {
   "cell_type": "code",
   "execution_count": null,
   "metadata": {},
   "outputs": [],
   "source": [
    "#https://youtu.be/rfscVS0vtbw?si=q847-qM4CDYdjVpM&t=7638\n",
    "#Timestamp 2:07:18 - Dictionaries"
   ]
  },
  {
   "cell_type": "code",
   "execution_count": 10,
   "metadata": {},
   "outputs": [
    {
     "name": "stdout",
     "output_type": "stream",
     "text": [
      "January\n",
      "Invalid Key\n"
     ]
    }
   ],
   "source": [
    "#Słownik, pary key - value umożliwia podmiany nazw\n",
    "monthConvert = {\n",
    "    \"Jan\":\"January\",\n",
    "    \"Feb\":\"February\",\n",
    "    \"Mar\":\"March\",\n",
    "    \"Apr\":\"April\",\n",
    "}\n",
    "print(monthConvert[\"Jan\"])                                                       #Metoda .get podaje informacje o błędnej wartości słownika\n",
    "print(monthConvert.get(\"Janl\",\"Invalid Key\"))                                    # .get(klucz, wartosc domyslna)\n"
   ]
  }
 ],
 "metadata": {
  "kernelspec": {
   "display_name": "Python 3",
   "language": "python",
   "name": "python3"
  },
  "language_info": {
   "codemirror_mode": {
    "name": "ipython",
    "version": 3
   },
   "file_extension": ".py",
   "mimetype": "text/x-python",
   "name": "python",
   "nbconvert_exporter": "python",
   "pygments_lexer": "ipython3",
   "version": "3.11.5"
  }
 },
 "nbformat": 4,
 "nbformat_minor": 2
}
