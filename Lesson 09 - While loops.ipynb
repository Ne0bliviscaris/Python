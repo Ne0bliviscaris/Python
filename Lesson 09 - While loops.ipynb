{
 "cells": [
  {
   "cell_type": "code",
   "execution_count": null,
   "metadata": {},
   "outputs": [],
   "source": [
    "#https://youtu.be/rfscVS0vtbw?si=-FqoCutE1SdmYZiL&t=8053\n",
    "#Timestamp 2:14:13 - While loop"
   ]
  },
  {
   "cell_type": "code",
   "execution_count": 11,
   "metadata": {},
   "outputs": [
    {
     "name": "stdout",
     "output_type": "stream",
     "text": [
      "2\n",
      "3\n",
      "4\n",
      "5\n",
      "6\n",
      "7\n",
      "8\n",
      "9\n",
      "10\n",
      "Loop is over\n"
     ]
    }
   ],
   "source": [
    "#Pętla while\n",
    "asd=1                                           #Wymagana deklaracja warunku\n",
    "while asd<10:                                                   \n",
    "    asd += 1\n",
    "    print(asd)\n",
    "print(\"Loop is over\")"
   ]
  },
  {
   "cell_type": "code",
   "execution_count": 36,
   "metadata": {},
   "outputs": [
    {
     "name": "stdout",
     "output_type": "stream",
     "text": [
      "You have 1 attempts left\n",
      "You have 0 attempts left\n",
      "Game over!\n"
     ]
    }
   ],
   "source": [
    "#Guessing game\n",
    "secret_word=\"giraffe\"\n",
    "left=2\n",
    "guess=input(f\"Input the secret word. You have {left} attempts\")\n",
    "\n",
    "while guess != secret_word and left !=0:                                        #gra odbedzie sie jedynie, kiedy pozostaly jakies podejscia\n",
    "    left-=1\n",
    "    print (f\"You have {left} attempts left\")                                    # f-string\n",
    "    guess=input(f\"Input the secret word. You have {left} attempts left\")\n",
    "if left == 0:\n",
    "    print(\"Game over!\")\n",
    "else:\n",
    "    print(\"You won!\")"
   ]
  }
 ],
 "metadata": {
  "kernelspec": {
   "display_name": "Python 3",
   "language": "python",
   "name": "python3"
  },
  "language_info": {
   "codemirror_mode": {
    "name": "ipython",
    "version": 3
   },
   "file_extension": ".py",
   "mimetype": "text/x-python",
   "name": "python",
   "nbconvert_exporter": "python",
   "pygments_lexer": "ipython3",
   "version": "3.11.5"
  }
 },
 "nbformat": 4,
 "nbformat_minor": 2
}
