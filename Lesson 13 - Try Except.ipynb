{
 "cells": [
  {
   "cell_type": "code",
   "execution_count": null,
   "metadata": {},
   "outputs": [],
   "source": [
    "#https://youtu.be/rfscVS0vtbw?si=nwFepPSrGCuUUMIw&t=11057\n",
    "#Timestamp 3:04:17 - Try Except"
   ]
  },
  {
   "cell_type": "code",
   "execution_count": 15,
   "metadata": {},
   "outputs": [
    {
     "name": "stdout",
     "output_type": "stream",
     "text": [
      "Invalid input\n"
     ]
    }
   ],
   "source": [
    "#try except - unikanie przerwań programu z powodu błędu\n",
    "try:                                                                  #try sprawdza, czy dana sekwencja nie wygeneruje błędu  \n",
    "    number = int(input(\"Enter a number\"))\n",
    "    print(number)\n",
    "except:                                                               #except wykonuje się po wygenerowaniu dowolnego błędu w try\n",
    "    print(\"Not a number\")                                             #zalecane jest adresowanie błędów pojedynczo\n",
    "\n",
    "        \n"
   ]
  },
  {
   "cell_type": "code",
   "execution_count": 32,
   "metadata": {},
   "outputs": [
    {
     "name": "stdout",
     "output_type": "stream",
     "text": [
      "Type error\n",
      "Error message:\n",
      "'number' is an invalid keyword argument for str()\n"
     ]
    }
   ],
   "source": [
    "#Reakcja na określone błędy\n",
    "try:\n",
    "#    number = 10/0                                                     #po wykonaniu number = 10/0 konsola zwróciła błąd ZeroDivisionError\n",
    "    str(number = \"10/0\")                                               #po wykonaniu str(number = \"10/0\") konsola zwróciła błąd TypeError\n",
    "except ZeroDivisionError as error0div:                                 #zapisanie treści błędu pod zmienną error0div z możliwością odczytu\n",
    "    print(\"Divided by zero\")\n",
    "    print(f\"Error message:\\n{error0div}\")\n",
    "except TypeError as typeerr:                                           #po wykonaniu str(number = \"10/0\") konsola zwróciła błąd TypeError\n",
    "    print(\"Type error\")\n",
    "    print(f\"Error message:\\n{typeerr}\")                                #treść błędu zapisana pod zmienną typeerr"
   ]
  }
 ],
 "metadata": {
  "kernelspec": {
   "display_name": "Python 3",
   "language": "python",
   "name": "python3"
  },
  "language_info": {
   "codemirror_mode": {
    "name": "ipython",
    "version": 3
   },
   "file_extension": ".py",
   "mimetype": "text/x-python",
   "name": "python",
   "nbconvert_exporter": "python",
   "pygments_lexer": "ipython3",
   "version": "3.11.5"
  }
 },
 "nbformat": 4,
 "nbformat_minor": 2
}
