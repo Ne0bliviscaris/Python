{
 "cells": [
  {
   "cell_type": "code",
   "execution_count": null,
   "metadata": {},
   "outputs": [],
   "source": [
    "#https://github.com/szymonmackowiak/lectures-and-courses/blob/main/programming-in-python/solutions-pl/zadania-1.ipynb\n",
    "#Zajecia 01 - 19.11.2023"
   ]
  },
  {
   "cell_type": "code",
   "execution_count": 43,
   "metadata": {},
   "outputs": [
    {
     "name": "stdout",
     "output_type": "stream",
     "text": [
      "Help on built-in function print in module builtins:\n",
      "\n",
      "print(*args, sep=' ', end='\\n', file=None, flush=False)\n",
      "    Prints the values to a stream, or to sys.stdout by default.\n",
      "    \n",
      "    sep\n",
      "      string inserted between values, default a space.\n",
      "    end\n",
      "      string appended after the last value, default a newline.\n",
      "    file\n",
      "      a file-like object (stream); defaults to the current sys.stdout.\n",
      "    flush\n",
      "      whether to forcibly flush the stream.\n",
      "\n"
     ]
    }
   ],
   "source": [
    "#Dostęp do dokumentacji Pythona\n",
    "help(print)"
   ]
  },
  {
   "cell_type": "code",
   "execution_count": 32,
   "metadata": {},
   "outputs": [
    {
     "name": "stdout",
     "output_type": "stream",
     "text": [
      "5\n",
      "-1\n",
      "6\n",
      "0.6666666666666666\n"
     ]
    }
   ],
   "source": [
    "#Zmienne i proste obliczenia\n",
    "a = 2\n",
    "b = 3\n",
    "print(a+b)\n",
    "print(a-b)\n",
    "print(a*b)\n",
    "print(a/b)"
   ]
  },
  {
   "cell_type": "code",
   "execution_count": null,
   "metadata": {},
   "outputs": [],
   "source": [
    "#Dodawanie ciągów tekstu\n",
    "a='5000'\n",
    "b='jakas inna liczba'\n",
    "print(a+b)"
   ]
  },
  {
   "cell_type": "code",
   "execution_count": null,
   "metadata": {},
   "outputs": [],
   "source": [
    "#Konwersja tekstu na liczby\n",
    "a='10'\n",
    "b='20'\n",
    "#int() odczytuje zmienną jako integer\n",
    "print(int(a)+int(b))\n",
    "#float() odczytuje zmienną jako float - zmiennoprzecinkową\n",
    "print(float(a)/float(b))"
   ]
  },
  {
   "cell_type": "code",
   "execution_count": null,
   "metadata": {},
   "outputs": [],
   "source": [
    "#Sprawdzenie typu zmiennej - type()\n",
    "e = 12.05\n",
    "type(e)"
   ]
  },
  {
   "cell_type": "code",
   "execution_count": null,
   "metadata": {},
   "outputs": [],
   "source": [
    "#Rodzaje operacji\n",
    "\n",
    "#Operacja arytmetyczna - dodawanie\n",
    "print(2+3)\n",
    "\n",
    "#Operacja logiczna - porównanie\n",
    "print(2==3)"
   ]
  },
  {
   "cell_type": "code",
   "execution_count": 37,
   "metadata": {},
   "outputs": [
    {
     "name": "stdout",
     "output_type": "stream",
     "text": [
      "123 dodać 321 równa się 444\n"
     ]
    }
   ],
   "source": [
    "#Odczyt tekstu z klawiatury i łącznie tekstu i zmiennych\n",
    "\n",
    "#Odczyt z klawiatury - input(\"opis\")\n",
    "#Domyślnie input() wszystko odczytuje jako tekst - żeby odczytane liczby traktować jako liczby należy użyć int(input(\"prompt\"))\n",
    "a=int(input(\"Podaj A\"))\n",
    "b=int(input(\"Podaj B\"))\n",
    "wynik = a+b\n",
    "print(f\"{a} dodać {b} równa się {wynik}\")"
   ]
  },
  {
   "cell_type": "code",
   "execution_count": 40,
   "metadata": {},
   "outputs": [
    {
     "name": "stdout",
     "output_type": "stream",
     "text": [
      "Pole wynosi 39483, a obwód wynosi 888.\n"
     ]
    }
   ],
   "source": [
    "#Zadanie 1.13\n",
    "#Wykonaj program, który będzie pobierać długości boków prostokąta, a następnie obliczać jego pole i obwód.\n",
    "a=int(input(\"Podaj długość pierwszego boku\"))\n",
    "b=int(input(\"Podaj długość drugiego boku\"))\n",
    "pole = a*b\n",
    "obwod = 2*a+2*b\n",
    "print(f\"Pole wynosi {pole}, a obwód wynosi {obwod}.\")"
   ]
  },
  {
   "cell_type": "code",
   "execution_count": 42,
   "metadata": {},
   "outputs": [
    {
     "name": "stdout",
     "output_type": "stream",
     "text": [
      "Obwód koła wynosi 772.8090000000001, a pole 47527.753500000006.\n"
     ]
    }
   ],
   "source": [
    "#Zadanie 1.14\n",
    "#Wykonaj program który będzie pobierać promień koła, a następnie obliczać jego obwód i pole.\n",
    "pi=3.1415\n",
    "r=float(input('Podaj promień koła'))\n",
    "obwod=2*pi*r\n",
    "pole=pi*r*r\n",
    "print(f\"Obwód koła wynosi {obwod}, a pole {pole}.\")"
   ]
  },
  {
   "cell_type": "code",
   "execution_count": 2,
   "metadata": {},
   "outputs": [
    {
     "name": "stdout",
     "output_type": "stream",
     "text": [
      "Samochód na tym dystansie powinien spalić 2.1 litrów. Koszt przejazdu wyniesie 14.7 zł.\n"
     ]
    }
   ],
   "source": [
    "#Zadanie 1.15\n",
    "#Napisz program, który będzie pobierać od użytkownika drogę pokonaną przez samochód oraz średnie spalanie\n",
    "#(w litrach na 100 km) i będzie wyświetlać wiadomość o przewidywanym zużyciu paliwa oraz o szacowanych kosztach podróży (cena paliwa 7 zł/l).\n",
    "spalanie=float(input('Ile średnio pali Twój samochód na 100?'))\n",
    "droga=int(input(\"Jaki jest dystans do pokonania?\"))\n",
    "wynik=round(spalanie/100*droga, 2)\n",
    "cena=round(wynik*7,2)\n",
    "print(f\"Samochód na tym dystansie powinien spalić {wynik} litrów. Koszt przejazdu wyniesie {cena} zł.\")"
   ]
  },
  {
   "cell_type": "code",
   "execution_count": 50,
   "metadata": {},
   "outputs": [
    {
     "name": "stdout",
     "output_type": "stream",
     "text": [
      "11.32131213515\n",
      "11.32\n"
     ]
    }
   ],
   "source": [
    "#Zaokrąglanie do dwóch miejsc po przecinku\n",
    "#help(round)\n",
    "test=11.32131213515\n",
    "print(test)\n",
    "print(round(test,2))"
   ]
  },
  {
   "cell_type": "code",
   "execution_count": 54,
   "metadata": {},
   "outputs": [
    {
     "name": "stdout",
     "output_type": "stream",
     "text": [
      "Średnia prędkość na dystansie 1235 wyniosła 34.31 km/h\n"
     ]
    }
   ],
   "source": [
    "#Zadanie 1.16\n",
    "#Napisz program, który będzie pobierać od użytkownika drogę i czas, a następnie obliczy i wyświetli na ekranie wartość średniej prędkości.\n",
    "droga=int(input(\"Jaki dystans został pokonany? [km]\"))\n",
    "czas=int(input(\"Jak długo trwał przejazd? [h]\"))\n",
    "wynik=round(droga/czas, 2)\n",
    "print(f\"Średnia prędkość na dystansie {droga} wyniosła {wynik} km/h\")"
   ]
  },
  {
   "cell_type": "code",
   "execution_count": 55,
   "metadata": {},
   "outputs": [
    {
     "name": "stdout",
     "output_type": "stream",
     "text": [
      "Przez ten czas udało się wyprodukować 159600 elementów. Wartość wyprodukowanej partii wyniosła 99750.0 zł.\n"
     ]
    }
   ],
   "source": [
    "#Zadanie 1.18\n",
    "#Wydajność linii produkującej pewne elementy wynosi 4 sztuki na minutę. Wartość jednego elementu wynosi 2.5 zł.\n",
    "#Napisz program, który przyjmie od użytkownika czas w godzinach i zwróci informację ile sztuk w tym czasie wyprodukuje linia produkcyjna oraz wyliczy wartość wyprodukowanej partii.\n",
    "wydajnosc=4\n",
    "wartosc=2.5\n",
    "czas=int(input(\"Jak godzin pracowała linia produkcyjna?\"))\n",
    "produkcja=czas*wydajnosc*60\n",
    "zysk=wartosc*czas*60\n",
    "print(f\"Przez ten czas udało się wyprodukować {produkcja} elementów. Wartość wyprodukowanej partii wyniosła {zysk} zł.\")"
   ]
  },
  {
   "cell_type": "code",
   "execution_count": 58,
   "metadata": {},
   "outputs": [],
   "source": [
    "#Zadanie 1.20\n",
    "#Napisz program, który pobierze od użytkownika ilość zakupionych towarów (masło [szt.], chleb [szt.], jabłko [kg]) i dokona \n",
    "#podliczenia całego zamówienia w oparciu o ustalony cennik (masło: 7.5 zł/szt., chleb: 7.2 zł/szt., jabłka: 3.15 zł/kg).\n",
    "cena_maslo=7.5\n",
    "cena_chleb=7.2\n",
    "cena_jablko=3.15\n",
    "maslo=int(input(\"Ile szt masła?\"))\n",
    "chleb=int(input('Ile chlebów?'))\n",
    "jablko=float(input('Ile kg jabłek?'))\n",
    "cena_zamowienia=round((cena_maslo*maslo)+(cena_chleb*chleb)+(cena_jablko*jablko),2)\n",
    "print(f\"Łączna cena wyniosła {cena_zamowienia} zł.\")"
   ]
  }
 ],
 "metadata": {
  "kernelspec": {
   "display_name": "Python 3",
   "language": "python",
   "name": "python3"
  },
  "language_info": {
   "codemirror_mode": {
    "name": "ipython",
    "version": 3
   },
   "file_extension": ".py",
   "mimetype": "text/x-python",
   "name": "python",
   "nbconvert_exporter": "python",
   "pygments_lexer": "ipython3",
   "version": "3.11.5"
  }
 },
 "nbformat": 4,
 "nbformat_minor": 2
}
