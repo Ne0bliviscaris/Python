{
 "cells": [
  {
   "cell_type": "code",
   "execution_count": 6,
   "metadata": {},
   "outputs": [
    {
     "name": "stdout",
     "output_type": "stream",
     "text": [
      "Hello, Mateusz\n",
      "So you are Mateusz Ratajczak. You are 29years old.\n"
     ]
    }
   ],
   "source": [
    "#Operacje na danych wejsciowych\n",
    "name = input(\"Enter your name: \")                                                   #funkcja input() zapisuje dane wejsciowe do zmiennej name\n",
    "print(\"Hello, \" + name)\n",
    "surname = input(\"Enter your surname: \")\n",
    "age = input(\"Your age as well\")\n",
    "print(\"So you are \" + name + \" \" + surname +\". You are \" + age + \" years old.\")     #zastosowanie wielokrotnych inputow"
   ]
  },
  {
   "cell_type": "code",
   "execution_count": 12,
   "metadata": {},
   "outputs": [
    {
     "name": "stdout",
     "output_type": "stream",
     "text": [
      "15\n",
      "6\n"
     ]
    }
   ],
   "source": [
    "#Prosty kalkulator liczb calkowitych\n",
    "num1 = input(\"Enter a number\")\n",
    "num2 = input(\"Enter another number\")\n",
    "result = num1 + num2                                                      #domyslnie Python trakture dane wejsciowe jako string\n",
    "print(result)                                                             #po konwersji na integer funkcja int() liczy poprawnie\n",
    "print(int(num1)+int(num2))                                                #integer obsluguje jedynie liczby calkowite"
   ]
  },
  {
   "cell_type": "code",
   "execution_count": 21,
   "metadata": {},
   "outputs": [
    {
     "name": "stdout",
     "output_type": "stream",
     "text": [
      "Dane wejsciowe: 1.111112.25\n",
      "3.36111\n"
     ]
    }
   ],
   "source": [
    "#Prosty kalkulator liczb zmiennoprzecinkowych\n",
    "num1 = input(\"Enter a number\")\n",
    "num2 = input(\"Enter another number\")\n",
    "result = num1 + num2                                                      \n",
    "print(\"Dane wejsciowe: \" +result)                                         #funkcja float() transformuje input na liczby zmiennoprzecinkowe\n",
    "print(float(num1)+float(num2))"
   ]
  },
  {
   "cell_type": "code",
   "execution_count": 1,
   "metadata": {},
   "outputs": [
    {
     "name": "stdout",
     "output_type": "stream",
     "text": [
      "Roses are col.\n",
      "Laptops are blue\n",
      "I love asd.\n"
     ]
    }
   ],
   "source": [
    "color= input (\"Enter a colour\")\n",
    "plural_noun= input (\"Enter a plural noun\")\n",
    "someone= input (\"Enter someone\")\n",
    "\n",
    "print(\"Roses are \"+color+\".\")\n",
    "print(plural_noun.title()+ \" are blue\")\n",
    "print(\"I love \"+someone+\".\")\n",
    "\n"
   ]
  }
 ],
 "metadata": {
  "kernelspec": {
   "display_name": "Python 3",
   "language": "python",
   "name": "python3"
  },
  "language_info": {
   "codemirror_mode": {
    "name": "ipython",
    "version": 3
   },
   "file_extension": ".py",
   "mimetype": "text/x-python",
   "name": "python",
   "nbconvert_exporter": "python",
   "pygments_lexer": "ipython3",
   "version": "3.11.5"
  },
  "orig_nbformat": 4
 },
 "nbformat": 4,
 "nbformat_minor": 2
}
