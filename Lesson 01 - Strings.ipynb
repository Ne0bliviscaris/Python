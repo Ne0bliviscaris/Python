{
 "cells": [
  {
   "cell_type": "code",
   "execution_count": null,
   "metadata": {},
   "outputs": [],
   "source": [
    "#https://youtu.be/rfscVS0vtbw?si=3sj-DAPRTm_mHfbB&t=1623\n",
    "#Timestamp 27:03 - Working with Strings"
   ]
  },
  {
   "cell_type": "code",
   "execution_count": null,
   "metadata": {},
   "outputs": [],
   "source": [
    "print (\"hello world\")\n"
   ]
  },
  {
   "cell_type": "code",
   "execution_count": 18,
   "metadata": {},
   "outputs": [
    {
     "name": "stdout",
     "output_type": "stream",
     "text": [
      "imie Jan Kowalski\n",
      "Jan\n",
      "Jan Kowalski\n"
     ]
    }
   ],
   "source": [
    "#Zmienne i ciągi tekstu\n",
    "name=(\"Jan\")                                        #Deklaracja zmiennej\n",
    "\n",
    "print(\"imie \"+name+\" Kowalski\")                     #\"tekst1 \" +zmienna+ \"tekst2\"\n",
    "\n",
    "print(name)                                         #Zmienna nie musi byc umieszczona w cudzyslowiu\n",
    "print(name + \" Kowalski\")                           #Zmienne laczy sie z ciagami tekstu znakiem +"
   ]
  },
  {
   "cell_type": "code",
   "execution_count": 45,
   "metadata": {},
   "outputs": [
    {
     "name": "stdout",
     "output_type": "stream",
     "text": [
      "Jakiś randomowy ciąg tekstu\n",
      "JAKIŚ RANDOMOWY CIĄG TEKSTU\n",
      "Jakiś Randomowy Ciąg Tekstu\n",
      "jakiś randomowy ciąg tekstu\n",
      "False\n",
      "True\n",
      "27\n",
      "i\n",
      "6\n",
      "Jakiś wcale nie taki randomowy ciąg tekstu\n",
      "Jókiś róndomowy ciąg tekstu\n"
     ]
    }
   ],
   "source": [
    "#Transformacje ciągu tekstu\n",
    "phrase=\"Jakiś randomowy ciąg tekstu\"\n",
    "print(phrase)\n",
    "print(phrase.upper())                                               #zmienna.funkcja()      upper()\n",
    "print(phrase.title())                                               #.title()\n",
    "print(phrase.lower())                                               #.lower()\n",
    "print(phrase.isupper())                                             #.isupper() sprawdza wielkosc liter\n",
    "print(phrase.lower().islower())                                     #.lower() transformuje ciag w male litery, .islower() sprawdza\n",
    "\n",
    "print(len(phrase))                                                  #len(zmienna()) liczy litery\n",
    "print(phrase[3])                                                    #print znaku z indeksu nr 3\n",
    "print(phrase.index(\"r\"))                                            #wskazuje indeks znaku \"r\" w ciągu\n",
    "print(phrase.replace(\"randomowy\", \"wcale nie taki randomowy\"))      #.replace(\"znak/slowo1\", \"znak/slowo2\")\n",
    "print(phrase.replace(\"a\",\"ó\"))                                      #.replace() podmienia znaki w calym ciagu"
   ]
  },
  {
   "cell_type": "code",
   "execution_count": null,
   "metadata": {},
   "outputs": [],
   "source": []
  }
 ],
 "metadata": {
  "kernelspec": {
   "display_name": "Python 3",
   "language": "python",
   "name": "python3"
  },
  "language_info": {
   "codemirror_mode": {
    "name": "ipython",
    "version": 3
   },
   "file_extension": ".py",
   "mimetype": "text/x-python",
   "name": "python",
   "nbconvert_exporter": "python",
   "pygments_lexer": "ipython3",
   "version": "3.11.5"
  },
  "orig_nbformat": 4
 },
 "nbformat": 4,
 "nbformat_minor": 2
}
