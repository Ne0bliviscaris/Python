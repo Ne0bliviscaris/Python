{
 "cells": [
  {
   "cell_type": "code",
   "execution_count": null,
   "metadata": {},
   "outputs": [],
   "source": [
    "#Zajecia 04 - 14.01.2024\n",
    "#https://github.com/szymonmackowiak/lectures-and-courses/blob/main/programming-in-python/solutions-pl/zadania-3.ipynb"
   ]
  },
  {
   "cell_type": "markdown",
   "metadata": {},
   "source": [
    "<h1>Funkcje</h1>\n",
    "Funkcje umożliwiają wielokrotne wykorzystywanie raz napisanego już kodu i pomagają w porządkowaniu programu. Działanie funkcji można przyrównać do funkcji w matematyce, w której po dostarczeniu danych (argumenty) otrzymujemy pewien wynik (wartości).\n",
    "\n",
    "Przykładami funkcji z których korzystaliśmy do tej pory były m. in. print() oraz len(). Na ich przykładzie możemy zauważyć, że funkcja:\n",
    "\n",
    "posiada nazwę,\n",
    "może przyjmować argumenty,\n",
    "może zwracać dane (wyniki operacji).\n",
    "\n",
    "Składnia funkcji w języku Python jest następująca:"
   ]
  },
  {
   "cell_type": "code",
   "execution_count": null,
   "metadata": {},
   "outputs": [],
   "source": [
    "# def nazwa_funkcji(argumenty):\n",
    "#     <instrukcje do wykonania>\n",
    "#     return dane"
   ]
  },
  {
   "cell_type": "markdown",
   "metadata": {},
   "source": [
    "Funkcja:\n",
    "\n",
    "funkcja może przyjmować argumenty wybranego typu, jeśli podamy ich nazwy w nawiasie ( … ), ale nie jest to wymagane,\n",
    "może wykonywać pewne operacje, łącznie z wyświetlaniem komunikatów w konsoli, zapisywaniem plików, tworzeniem wykresów czy wyświetlaniem obrazów,\n",
    "może zwracać określoną wartość (lub wiele wartości) wybranego typu, przy użyciu instrukcji „return”, ale nie jest to wymagane.\n",
    "Przykład funkcji przyjmującej argumenty „a” i „b” i zwracającej wartość „c”:"
   ]
  },
  {
   "cell_type": "code",
   "execution_count": 5,
   "metadata": {},
   "outputs": [],
   "source": [
    "def suma(a, b, c=0):\n",
    "     \"\"\"To jest tekst pomocy funkcji suma...\"\"\"\n",
    "     wynik1 = a+b+c\n",
    "     wynik2 = a - b - c\n",
    "     return wynik1, wynik2"
   ]
  },
  {
   "cell_type": "code",
   "execution_count": 3,
   "metadata": {},
   "outputs": [
    {
     "name": "stdout",
     "output_type": "stream",
     "text": [
      "6\n",
      "-4\n"
     ]
    }
   ],
   "source": [
    "#Return funkcji do kilku zmiennych jednocześnie\n",
    "sum1, sum2 = suma(1, 2, 3)\n",
    "print(sum1)\n",
    "print(sum2)"
   ]
  },
  {
   "cell_type": "code",
   "execution_count": 6,
   "metadata": {},
   "outputs": [
    {
     "name": "stdout",
     "output_type": "stream",
     "text": [
      "Help on function suma in module __main__:\n",
      "\n",
      "suma(a, b, c=0)\n",
      "    To jest tekst pomocy funkcji suma...\n",
      "\n"
     ]
    }
   ],
   "source": [
    "help(suma)"
   ]
  },
  {
   "cell_type": "code",
   "execution_count": 12,
   "metadata": {},
   "outputs": [],
   "source": [
    "def parzystosc(liczba):\n",
    "    \"\"\"\n",
    "    Ta funnkcja sprawdza, czy liczba jest parzysta.\n",
    "    Przyjmuje jeden argument liczba.\n",
    "    Zwraca True, jeśli liczba jest parzysta, False w przeciwnym wypadku.\n",
    "    \"\"\"\n",
    "    if liczba % 2 == 0:\n",
    "        return True\n",
    "    else:\n",
    "        return False"
   ]
  },
  {
   "cell_type": "code",
   "execution_count": 13,
   "metadata": {},
   "outputs": [
    {
     "name": "stdout",
     "output_type": "stream",
     "text": [
      "Help on function parzystosc in module __main__:\n",
      "\n",
      "parzystosc(liczba)\n",
      "    Ta funnkcja sprawdza, czy liczba jest parzysta.\n",
      "    Przyjmuje jeden argument liczba.\n",
      "    Zwraca True, jeśli liczba jest parzysta, False w przeciwnym wypadku.\n",
      "\n"
     ]
    }
   ],
   "source": [
    "help(parzystosc)"
   ]
  },
  {
   "cell_type": "markdown",
   "metadata": {},
   "source": [
    "Zadanie 3.2\n",
    "Napisz funkcję bez argumetu, która wypisze w konsoli komunikat \"Witaj świecie!\""
   ]
  },
  {
   "cell_type": "code",
   "execution_count": 15,
   "metadata": {},
   "outputs": [
    {
     "name": "stdout",
     "output_type": "stream",
     "text": [
      "Hello World!\n"
     ]
    }
   ],
   "source": [
    "def hello():\n",
    "    print(\"Hello World!\")\n",
    "hello()"
   ]
  },
  {
   "cell_type": "markdown",
   "metadata": {},
   "source": [
    "Zadanie 3.4\n",
    "Napisz funkcję, która przyjmie od użytkownika dwie liczby i zwróci wynik ich dodawania, odejmowania, mnożenia i dzielenia."
   ]
  },
  {
   "cell_type": "code",
   "execution_count": 18,
   "metadata": {},
   "outputs": [],
   "source": [
    "def calc(liczba1, liczba2):\n",
    "    liczba1 = int(input(\"Podaj liczbę 1\"))\n",
    "    liczba2 = int(input(\"Podaj liczbę 2\"))\n",
    "    print(\"Suma liczb to: \", liczba1 + liczba2)\n",
    "    print(\"Różnica liczb to: \", liczba1 - liczba2)\n",
    "    print(\"Iloczyn liczb to: \", liczba1 * liczba2)\n",
    "    print(\"Iloraz liczb to: \", liczba1 / liczba2)"
   ]
  },
  {
   "cell_type": "code",
   "execution_count": 21,
   "metadata": {},
   "outputs": [
    {
     "name": "stdout",
     "output_type": "stream",
     "text": [
      "Suma liczb to:  9\n",
      "Różnica liczb to:  1\n",
      "Iloczyn liczb to:  20\n",
      "Iloraz liczb to:  1.25\n"
     ]
    }
   ],
   "source": [
    "calc(l1,l2)"
   ]
  },
  {
   "cell_type": "markdown",
   "metadata": {},
   "source": [
    "Zadanie 3.5\n",
    "Napisz funkcję, która przyjmie listę liczb i zwróci sumę z tych liczb."
   ]
  },
  {
   "cell_type": "code",
   "execution_count": 35,
   "metadata": {},
   "outputs": [],
   "source": [
    "def suma_listy(lista):\n",
    "    \n",
    "    suma = 0\n",
    "    \n",
    "    for item in lista:\n",
    "        suma = suma + item\n",
    "        \n",
    "    return suma"
   ]
  },
  {
   "cell_type": "code",
   "execution_count": 36,
   "metadata": {},
   "outputs": [
    {
     "data": {
      "text/plain": [
       "55"
      ]
     },
     "execution_count": 36,
     "metadata": {},
     "output_type": "execute_result"
    }
   ],
   "source": [
    "#length = int(input(\"Podaj długość listy: \"))\n",
    "suma_listy([1,2,3,4,5,6,7,8,9,10])"
   ]
  },
  {
   "cell_type": "markdown",
   "metadata": {},
   "source": [
    "Zadanie 3.6\n",
    "Napisz program z funkcją, która pobierze od użytkownika jego imię oraz liczbę naturalną n, a następnie wyświetli na ekranie podane imię n razy. Jeżeli użytkownik nie poda żadnego imienia ani liczby, niech domyślnie funkcja ustawia wartości „Adam” oraz 7."
   ]
  },
  {
   "cell_type": "code",
   "execution_count": 39,
   "metadata": {},
   "outputs": [
    {
     "name": "stdout",
     "output_type": "stream",
     "text": [
      "Iteracja: 1, Imię: Adam\n",
      "Iteracja: 2, Imię: Adam\n",
      "Iteracja: 3, Imię: Adam\n",
      "Iteracja: 4, Imię: Adam\n",
      "Iteracja: 5, Imię: Adam\n",
      "Iteracja: 6, Imię: Adam\n",
      "Iteracja: 7, Imię: Adam\n",
      "Iteracja: 1, Imię: 3\n",
      "Iteracja: 2, Imię: 3\n",
      "Iteracja: 3, Imię: 3\n",
      "Iteracja: 4, Imię: 3\n",
      "Iteracja: 5, Imię: 3\n",
      "Iteracja: 6, Imię: 3\n",
      "Iteracja: 7, Imię: 3\n"
     ]
    }
   ],
   "source": [
    "def drukuj(imie=\"Adam\", n=7):\n",
    "    odp = intput(\"dodatkowe info\")\n",
    "    for i in range(n):\n",
    "        print(f\"Iteracja: {i + 1}, Imię: {imie}, Dodatkowe info: {odp}\")\n",
    "drukuj()"
   ]
  },
  {
   "cell_type": "markdown",
   "metadata": {},
   "source": [
    "Zadanie 3.7\n",
    "Związek między temperaturą w skali Celsjusza, a temperaturą w skali Fahrenheita ma postać:\n",
    "\n",
    "C = (F-32)*(5/9) (przy przeliczaniu skali Fahrenheita na Celsjusza),\n",
    "F = (C*(9/5)) + 32 (przy przeliczanniu skali Celsjusza na skalę Fahrenheita).\n",
    "Napisz dwie funkcje do przeliczania temperatur między poszczególnymi skalami.\n",
    "\n",
    "Sporządź dla powyższej funkcji dokumentację."
   ]
  },
  {
   "cell_type": "code",
   "execution_count": 45,
   "metadata": {},
   "outputs": [
    {
     "name": "stdout",
     "output_type": "stream",
     "text": [
      "W skali Fahrenheita  32.0\n"
     ]
    }
   ],
   "source": [
    "def FtoC(tempF):\n",
    "    \"\"\"\n",
    "    Wzór na przeliczanie stopni Fahrenheita na Celsjusza:\n",
    "    C = (F-32)*(5/9)\n",
    "    Skala Fahrenheita opiera się o ludzkich doznaniach temperatury.\n",
    "    Skala Celsjusza opiera się o temperaturę wrzenia i zamarzania wody.\n",
    "    \"\"\"\n",
    "    tempC = (tempF - 32) * 5/9\n",
    "    return tempC\n",
    "def CtoF(tempC):\n",
    "    \"\"\"Wzór na przeliczanie stopni Celsjusza na Fahrenheita:\n",
    "    F = C*(9/5)+32\n",
    "    Skala Fahrenheita opiera się o ludzkich doznaniach temperatury.\n",
    "    Skala Celsjusza opiera się o temperaturę wrzenia i zamarzania wody.\n",
    "    \"\"\"\n",
    "    tempF = (tempC * 9/5) + 32\n",
    "    return tempF\n",
    "\n",
    "def temp_calc():\n",
    "    \"\"\"\n",
    "    Funkcja ta pobiera od użytkownika temperaturę i skalę, w której ta temperatura jest podana.\n",
    "    Następnie przelicza temperaturę do drugiej skali i zwraca wynik.\n",
    "    \"\"\"\n",
    "    temp = int(input(\"Podaj temperaturę: \"))\n",
    "    skala = input(\"Podaj skalę pierwotną (F/C): \")\n",
    "    if skala == \"F\":\n",
    "        print(\"W skali Celsjusza temperatura wynosi \", FtoC(temp))\n",
    "    elif skala == \"C\":\n",
    "        print(\"W skali Fahrenheita \", CtoF(temp))\n",
    "    else:\n",
    "        print(\"Niepoprawna skala\")\n",
    "temp_calc()"
   ]
  },
  {
   "cell_type": "code",
   "execution_count": 46,
   "metadata": {},
   "outputs": [
    {
     "name": "stdout",
     "output_type": "stream",
     "text": [
      "Help on function temp_calc in module __main__:\n",
      "\n",
      "temp_calc()\n",
      "    Funkcja ta pobiera od użytkownika temperaturę i skalę, w której ta temperatura jest podana.\n",
      "    Następnie przelicza temperaturę do drugiej skali i zwraca wynik.\n",
      "\n"
     ]
    }
   ],
   "source": [
    "help(temp_calc)"
   ]
  },
  {
   "cell_type": "markdown",
   "metadata": {},
   "source": [
    "Zadanie 3.8\n",
    "Trójmian kwadratowy wyraża się wzorem \n",
    ". Utwórz funkcję, która będzie przyjmować jako argumenty współczynniki \n",
    " trójmianu kwadratowego, a zwracać będzie miejsca zerowe oraz współrzędne wierzchołka funkcji. Funckja powinna obsługiwać sytucaję braku rozwiązań rzeczywistych.\n",
    " \n",
    "Sporządź dla powyższej funkcji dokumentację."
   ]
  },
  {
   "cell_type": "code",
   "execution_count": 53,
   "metadata": {},
   "outputs": [
    {
     "name": "stdout",
     "output_type": "stream",
     "text": [
      "Funkcja kwadratowa: f(x) = 1x^2 + 2x + 3\n",
      "Miejsca zerowe funkcji kwadratowej to: (-1-1.4142135623730951j) i (-0.9999999999999999+1.4142135623730951j)\n",
      "Współrzędne wierzchołka funkcji to: (-1.0, 2.0)\n"
     ]
    }
   ],
   "source": [
    "def funkcja_kwadratowa(a, b, c):\n",
    "    \"\"\"\n",
    "    Funkcja oblicza miejsca zerowe funkcji kwadratowej oraz współrzędne wierzchołka funkcji.\n",
    "    Funkcja przyjmuje trzy argumenty: a, b, c.\n",
    "    Wzór funkcji kwadratowej: f(x) = ax^2 + bx + c\n",
    "    Funkcja zwraca dwa miejsca zerowe oraz współrzędne p i q wierzchołka funkcji.\n",
    "    \"\"\"\n",
    "    print(f\"Funkcja kwadratowa: f(x) = {a}x^2 + {b}x + {c}\")\n",
    "    delta = b**2 - 4*a*c\n",
    "    x1 = (-b - delta**0.5)/(2*a)\n",
    "    x2 = (-b + delta**0.5)/(2*a)\n",
    "    print(f\"Miejsca zerowe funkcji kwadratowej to: {x1} i {x2}\")\n",
    "    p = -b/(2*a)\n",
    "    q = -delta/4*a\n",
    "    print(f\"Współrzędne wierzchołka funkcji to: ({p}, {q})\")\n",
    "funkcja_kwadratowa(1, 2, 3)"
   ]
  },
  {
   "cell_type": "markdown",
   "metadata": {},
   "source": [
    "Zadanie 3.9\n",
    "Napisz funkcję, która jako argument przyjmie listę liczb, a zwróci ich średnią.\n",
    "\n",
    "Sporządź dla powyższej funkcji dokumentację."
   ]
  },
  {
   "cell_type": "code",
   "execution_count": 70,
   "metadata": {},
   "outputs": [
    {
     "data": {
      "text/plain": [
       "6.0"
      ]
     },
     "execution_count": 70,
     "metadata": {},
     "output_type": "execute_result"
    }
   ],
   "source": [
    "def srednia_listy(lista):\n",
    "    \n",
    "    suma = 0\n",
    "    srednia = 0\n",
    "    for item in lista:\n",
    "        suma = (suma + item)\n",
    "    srednia = suma/len(lista)\n",
    "        \n",
    "    return srednia\n",
    "\n",
    "srednia_listy([\n",
    "    2,4,6,8,10\n",
    "    ])"
   ]
  },
  {
   "cell_type": "markdown",
   "metadata": {},
   "source": [
    "Zadanie 3.10\n",
    "Napisz funkcję, która jako argument przyjmie listę liczb, a zwróci odchylenie standardowe."
   ]
  },
  {
   "cell_type": "code",
   "execution_count": 63,
   "metadata": {},
   "outputs": [
    {
     "data": {
      "text/plain": [
       "8.0"
      ]
     },
     "execution_count": 63,
     "metadata": {},
     "output_type": "execute_result"
    }
   ],
   "source": [
    "def odchylenie_standardowe(lista):\n",
    "    \n",
    "    suma = 0\n",
    "    srednia = 0\n",
    "    odchylenie_liczb = 0\n",
    "    for item in lista:\n",
    "        suma = (suma + item)\n",
    "    srednia = suma/len(lista)\n",
    "        \n",
    "    for item in lista:\n",
    "        odchylenie_liczb = odchylenie_liczb + (item - srednia)**2\n",
    "    odchylenie_standardowe = odchylenie_liczb/len(lista)\n",
    "    return odchylenie_standardowe\n",
    "\n",
    "odchylenie_standardowe([\n",
    "    2,4,6,8,10\n",
    "    ])"
   ]
  },
  {
   "cell_type": "code",
   "execution_count": 71,
   "metadata": {},
   "outputs": [],
   "source": [
    "def odchylenie_standardowe(lista):\n",
    "    sredni_x = srednia_listy(lista)\n",
    "    s = 0\n",
    "    for item in lista:\n",
    "        s = s + ((item-sredni_x)**2/len(lista))**0.5\n",
    "odchylenie_standardowe([2,4,6,8,10])"
   ]
  },
  {
   "cell_type": "markdown",
   "metadata": {},
   "source": [
    "Zadanie 3.13\n",
    "Utwórz program (z wykorzystaniem funkcji) do obliczania pól figur płaskich, który:\n",
    "\n",
    "pozwoli użytkownikowi wybrać figurę, której pole chce obliczyć,\n",
    "pobierze z klawiatury odpowiednie dane,\n",
    "wyświetli właściwy wynik,\n",
    "pozwoli użytkownikowi podjąć decyzję, czy chce uruchomić program ponownie, czy nie.\n",
    "Program powinien zawierać funkcje do obliczania pól następujących figur: trójkąt, prostokąt, koło, trapez, kwadrat, trójkąt równoboczny."
   ]
  },
  {
   "cell_type": "code",
   "execution_count": null,
   "metadata": {},
   "outputs": [],
   "source": [
    "def kwadrat(a):\n",
    "    return a*a\n",
    "\n",
    "def prostokat(a, b):\n",
    "    return a*b\n",
    "\n",
    "def kolo(r):\n",
    "    return r*r*3.1415\n",
    "\n",
    "decyzja = 't'\n",
    "\n",
    "while (decyzja == 't'):\n",
    "    figura = int(input(\"Pole jakiej figury chcesz wyliczyć? 1 - kwadrat, 2 - prostokąt, 3 - koło? \"))\n",
    "    \n",
    "    if(figura == 1):\n",
    "        a = int(input(\"Podaj bok kwadratu: \"))\n",
    "        print(f\"Pole kwadratu o boku {a} wynosi {kwadrat(a)}\")\n",
    "    elif(figura == 2): \n",
    "        a = int(input(\"Podaj pierwszy bok prostokąta: \"))\n",
    "        b = int(input(\"Podaj drugi bok prostokąta: \"))\n",
    "        print(f\"Pole prostokąta o bokach {a} i {b} wynosi {prostokat(a, b)}\")\n",
    "    elif(figura == 3):\n",
    "        r = int(input(\"Podaj promień koła: \"))\n",
    "        print(f\"Pole koła o promieniu {r} wynosi {kolo(r)}\")\n",
    "    else:\n",
    "        print(\"Nieznana figura\")\n",
    "    \n",
    "    decyzja = input(\"Czy chcesz wykonać program ponownie? t-tak, n-nie: \")"
   ]
  },
  {
   "cell_type": "markdown",
   "metadata": {},
   "source": [
    "<h1>Programowanie obiektowe</h1>\n",
    "Do tej pory dane na których pracowaliśmy miały określony typ:\n",
    "\n",
    "liczby całkowite (int)\n",
    "liczby rzeczywiste (float)\n",
    "łańcuchy znaków (str)\n",
    "itd.\n",
    "Typ determinuje jakie wartości mogą być przechowywane w danej zmiennej oraz jakie opracje można na niej wykonać (podobnie jak w matematyce - zbiory liczbowe były określone przez ich elementy oraz operacje jakie można na chych wykonywać).\n",
    "\n",
    "W praktycze programistycznej okazuje się jednak, że często podstawowe typy danych są niewystarczające i stoimy przed koniecznością tworzenia własnych \"typów\". Tak własne utworzone typy nazywamy klasami, a programowanie wykorzystujące takie podejście - programowaniem obiektowym.\n",
    "\n",
    "Każdy reprezentant (instancja) danej klasy to obiekt. Obiekty są opisywane pewnymi liczbami/wartościami (pola/atrybuty) i można wykonywać na nich konkretne działania (metody).\n",
    "\n",
    "Warto pamiętać, że:\n",
    "\n",
    "programowanie obiektowe umożliwia tworzenie nowych typów danych,\n",
    "każdy obiekt można (jego własności) opisać za pomocą liczb i funkcji jakie można na nich wykonać, są to tzw. pola i metody,\n",
    "obiekty o tych samych własnościach nazywamy klasą.\n",
    "W podejściu obiektowym program stanowi zbiór obiektów, które komunikują się między sobą w celu wykonywania zadań. Takie podejście różni się znacznie od podejścia proceduralnego.\n",
    "\n",
    "Programowanie obiektowe opiera się na następujących paradygmatach:\n",
    "\n",
    "Abstrakcja\n",
    "Hermetyzacja\n",
    "Dziedziczenie\n",
    "Polimorfizm\n",
    "Najważniejsze pojęcia:\n",
    "\n",
    "Klasa\n",
    "Konstruktor\n",
    "Pola (atrybuty)\n",
    "Metody\n",
    "Obiekty"
   ]
  },
  {
   "cell_type": "code",
   "execution_count": 72,
   "metadata": {},
   "outputs": [],
   "source": [
    "#klasa\n",
    "class czlowiek:\n",
    "    imie = \"Jan\"\n",
    "    nazwisko = \"Kowalski\""
   ]
  },
  {
   "cell_type": "code",
   "execution_count": 79,
   "metadata": {},
   "outputs": [
    {
     "ename": "TypeError",
     "evalue": "czlowiek.__init__() missing 2 required positional arguments: 'nazwisko' and 'imie'",
     "output_type": "error",
     "traceback": [
      "\u001b[1;31m---------------------------------------------------------------------------\u001b[0m",
      "\u001b[1;31mTypeError\u001b[0m                                 Traceback (most recent call last)",
      "Cell \u001b[1;32mIn[79], line 2\u001b[0m\n\u001b[0;32m      1\u001b[0m \u001b[38;5;66;03m#instancja = obiekt danej klasy\u001b[39;00m\n\u001b[1;32m----> 2\u001b[0m a1 \u001b[38;5;241m=\u001b[39m \u001b[43mczlowiek\u001b[49m\u001b[43m(\u001b[49m\u001b[43m)\u001b[49m\n",
      "\u001b[1;31mTypeError\u001b[0m: czlowiek.__init__() missing 2 required positional arguments: 'nazwisko' and 'imie'"
     ]
    }
   ],
   "source": [
    "#instancja = obiekt danej klasy - błędne zastosowanie\n",
    "a1 = czlowiek()"
   ]
  },
  {
   "cell_type": "code",
   "execution_count": 77,
   "metadata": {},
   "outputs": [
    {
     "data": {
      "text/plain": [
       "'Jan'"
      ]
     },
     "execution_count": 77,
     "metadata": {},
     "output_type": "execute_result"
    }
   ],
   "source": [
    "#instancja a1 posiada wszystkie atrybuty klasy czlowiek\n",
    "a1.imie"
   ]
  },
  {
   "cell_type": "markdown",
   "metadata": {},
   "source": [
    "<h3>Konstruktor klasy</h3>"
   ]
  },
  {
   "cell_type": "code",
   "execution_count": 94,
   "metadata": {},
   "outputs": [],
   "source": [
    "#Tworzenie konstruktora klasy\n",
    "class czlowiek:\n",
    "    def __init__(self, nazwisko, imie):\n",
    "        self.nazwisko = nazwisko\n",
    "        self.imie = imie\n",
    "\n",
    "    def __str__(self):\n",
    "        return f\"Nazwisko: {self.nazwisko}, imię: {self.imie}\"\n",
    "\n",
    "    def drukuj(self):\n",
    "        print(\"Jakiś tekst\")"
   ]
  },
  {
   "cell_type": "code",
   "execution_count": 85,
   "metadata": {},
   "outputs": [
    {
     "data": {
      "text/plain": [
       "'Kowalski'"
      ]
     },
     "execution_count": 85,
     "metadata": {},
     "output_type": "execute_result"
    }
   ],
   "source": [
    "a1 = czlowiek(\"Kowalski\",\"Jan\")\n",
    "a1.nazwisko"
   ]
  },
  {
   "cell_type": "code",
   "execution_count": null,
   "metadata": {},
   "outputs": [],
   "source": [
    "a1.drukuj()"
   ]
  },
  {
   "cell_type": "markdown",
   "metadata": {},
   "source": [
    "Zadanie 3.21\n",
    "Utwórz klasę Ulamek - klasa powinna zawierać takie pola jak licznik i mianownik, metody zwracające wartość licznika i mianownika oraz metody umożliwiające dodawanie, odejmowanie, dzielenie i mnożenie obiektów klasy Ulamek."
   ]
  },
  {
   "cell_type": "code",
   "execution_count": 166,
   "metadata": {},
   "outputs": [],
   "source": [
    "class ulamek:\n",
    "    def __init__(self, licznik, mianownik):\n",
    "        self.licznik = licznik\n",
    "        self.mianownik = mianownik\n",
    "    def __str__(self):\n",
    "        return f\"{self.licznik} / {self.mianownik}\"\n",
    "    def wartosc_licznika(self):\n",
    "        return f\"Wartość licznika: {self.licznik}.\"\n",
    "    def wartosc_mianownika(self):\n",
    "        return f\"Wartość mianownika: {self.mianownik}.\"\n",
    "    def iloczyn(self, other):\n",
    "        licznik = self.licznik * other.licznik\n",
    "        mianownik = self.mianownik * other.mianownik\n",
    "        return f\"{licznik} / {mianownik}\"\n",
    "    def iloraz(self, other):\n",
    "        licznik = self.licznik / other.mianownik\n",
    "        mianownik = self.mianownik / other.licznik\n",
    "        return f\"{licznik} / {mianownik}\"\n",
    "    def suma(self, other):\n",
    "        licznik = self.licznik*other.mianownik + self.mianownik*other.licznik\n",
    "        mianownik = self.mianownik * other.mianownik\n",
    "        return f\"{licznik} / {mianownik}\""
   ]
  },
  {
   "cell_type": "code",
   "execution_count": 167,
   "metadata": {},
   "outputs": [],
   "source": [
    "ulamek1 = ulamek(1,2)\n",
    "ulamek2 = ulamek(2,3)"
   ]
  },
  {
   "cell_type": "code",
   "execution_count": 168,
   "metadata": {},
   "outputs": [
    {
     "data": {
      "text/plain": [
       "'7 / 6'"
      ]
     },
     "execution_count": 168,
     "metadata": {},
     "output_type": "execute_result"
    }
   ],
   "source": [
    "ulamek1.suma(ulamek2)"
   ]
  },
  {
   "cell_type": "markdown",
   "metadata": {},
   "source": [
    "Zadanie 3.22\n",
    "Napisz program do obliczania BMI zawodnika. Program powinien zawierać klasę Zawodnik o polach imię, wzrost, waga oraz metodę do obliczania BMI. Utwórz obiekt reprezentujący zawodnika i wywołaj metodę, która obliczy i wyświetli wartość BMI.\n",
    "BMI = kg / m^2"
   ]
  },
  {
   "cell_type": "code",
   "execution_count": 179,
   "metadata": {},
   "outputs": [],
   "source": [
    "class zawodnik:\n",
    "    def __init__(self, imie, wzrost, waga):\n",
    "        self.imie = imie\n",
    "        self.wzrost = wzrost\n",
    "        self.waga = waga\n",
    "    def __str__(self):\n",
    "        return f\"Imię: {imie}, wzrost: {wzrost}m, waga: {waga}kg\"\n",
    "    def bmi(self):\n",
    "        BMI = self.waga / (self.wzrost**2)\n",
    "        return f\"BMI: {BMI}\"\n"
   ]
  },
  {
   "cell_type": "code",
   "execution_count": 180,
   "metadata": {},
   "outputs": [
    {
     "data": {
      "text/plain": [
       "'BMI: 23.37472607742878'"
      ]
     },
     "execution_count": 180,
     "metadata": {},
     "output_type": "execute_result"
    }
   ],
   "source": [
    "zawodnik1 = zawodnik(\"Adam\", 1.85, 80)\n",
    "zawodnik1.bmi()"
   ]
  },
  {
   "cell_type": "markdown",
   "metadata": {},
   "source": [
    "Zadanie 3.23\n",
    "Utwórz klasę Vector2D do reprezentowania i wykonywania działań na wektorach. Klasa powinna zawierać takie metody jak:\n",
    "\n",
    "dodawanie (zwiększanie) wekotrów,\n",
    "odejmowanie (zmniejszanie) wektorów,\n",
    "skalowanie,\n",
    "zwracanie modułu,\n",
    "iloczyn skalarny,\n",
    "wyświetlanie współrzędnych."
   ]
  },
  {
   "cell_type": "code",
   "execution_count": 181,
   "metadata": {},
   "outputs": [],
   "source": [
    "class Vector2D:\n",
    "    \"\"\"\n",
    "    Klasa reprezentująca wektor dwuwymiarowy.\n",
    "    \"\"\"\n",
    "\n",
    "    def __init__(self, x, y):\n",
    "        \"\"\"\n",
    "        Inicjalizuje obiekt Vector2D.\n",
    "\n",
    "        :param x: Wartość współrzędnej x.\n",
    "        :param y: Wartość współrzędnej y.\n",
    "        \"\"\"\n",
    "        self.x = x\n",
    "        self.y = y\n",
    "        \n",
    "    def display(self):\n",
    "        \"\"\"\n",
    "        Wyświetla współrzędne wektora.\n",
    "        \"\"\"\n",
    "        print(\"x=\"+str(self.x)+\", y=\"+str(self.y))\n",
    "  \n",
    "    def add(self, other):\n",
    "        \"\"\"\n",
    "        Dodaje inny wektor do bieżącego wektora.\n",
    "\n",
    "        :param other: Inny wektor.\n",
    "        \"\"\"\n",
    "        self.x = self.x + other.x\n",
    "        self.y = self.y + other.y\n",
    "        \n",
    "    def substr(self, other):\n",
    "        \"\"\"\n",
    "        Odejmuje inny wektor od bieżącego wektora.\n",
    "\n",
    "        :param other: Inny wektor.\n",
    "        \"\"\"\n",
    "        self.x = self.x - other.x\n",
    "        self.y = self.y - other.y\n",
    "        \n",
    "    def multByNumber(self, a):\n",
    "        \"\"\"\n",
    "        Mnoży bieżący wektor przez liczbę.\n",
    "\n",
    "        :param a: Liczba.\n",
    "        \"\"\"\n",
    "        self.x = a*self.x\n",
    "        self.y = a*self.y\n",
    "        \n",
    "    def dotProd(self, other):\n",
    "        \"\"\"\n",
    "        Oblicza iloczyn skalarny bieżącego wektora i innego wektora.\n",
    "\n",
    "        :param other: Inny wektor.\n",
    "        :return: Iloczyn skalarny.\n",
    "        \"\"\"\n",
    "        return self.x*other.x + self.y*other.y \n",
    "    \n",
    "    def rotate(self, alfa):\n",
    "        \"\"\"\n",
    "        Obraca bieżący wektor o zadany kąt.\n",
    "\n",
    "        :param alfa: Kąt w stopniach.\n",
    "        \"\"\"\n",
    "        alfaDeg = alfa*math.pi/180\n",
    "        sinus = math.sin(alfaDeg)\n",
    "        cosinus = math.cos(alfaDeg)\n",
    "        x = self.x\n",
    "        y = self.y       \n",
    "        self.x = x*cosinus - y*sinus\n",
    "        self.y = x*sinus + y*cosinus\n",
    "        \n",
    "    def modulus(self):\n",
    "        \"\"\"\n",
    "        Oblicza moduł bieżącego wektora.\n",
    "\n",
    "        :return: Moduł wektora.\n",
    "        \"\"\"\n",
    "        return (self.x**2 + self.y**2)**0.5\n",
    "    \n",
    "    def opposite(self):\n",
    "        \"\"\"\n",
    "        Zwraca przeciwny wektor do bieżącego wektora.\n",
    "        \"\"\"\n",
    "        self.x = -self.x\n",
    "        self.y = -self.y"
   ]
  },
  {
   "cell_type": "markdown",
   "metadata": {},
   "source": [
    "Zadanie 3.24\n",
    "Utwórz klasę Prostokat, która będzie reprezentować współrzędne wierzchołków prostokąta oraz będzie umożliwiać wykonywanie na nim następujących operacji:\n",
    "\n",
    "przesuwanie o wektor 2D (przesunięcie w kierunku x i kierunku y)\n",
    "przesuwanie do środka układu współrzędnych\n",
    "skalowanie (w kierunkach x i y)\n",
    "Klasa powinna posiadać konstruktor przyjmujący współrzędne lewego górnego wierzchołka oraz szerokość i wysokość prostokąta."
   ]
  },
  {
   "cell_type": "code",
   "execution_count": 211,
   "metadata": {},
   "outputs": [
    {
     "ename": "NameError",
     "evalue": "name 'self' is not defined",
     "output_type": "error",
     "traceback": [
      "\u001b[1;31m---------------------------------------------------------------------------\u001b[0m",
      "\u001b[1;31mNameError\u001b[0m                                 Traceback (most recent call last)",
      "Cell \u001b[1;32mIn[211], line 1\u001b[0m\n\u001b[1;32m----> 1\u001b[0m \u001b[38;5;28;43;01mclass\u001b[39;49;00m\u001b[43m \u001b[49m\u001b[38;5;21;43;01mrect\u001b[39;49;00m\u001b[43m:\u001b[49m\n\u001b[0;32m      2\u001b[0m \u001b[43m    \u001b[49m\u001b[38;5;28;43;01mdef\u001b[39;49;00m\u001b[43m \u001b[49m\u001b[38;5;21;43m__init__\u001b[39;49m\u001b[43m(\u001b[49m\u001b[38;5;28;43mself\u001b[39;49m\u001b[43m,\u001b[49m\u001b[43m \u001b[49m\u001b[43mx\u001b[49m\u001b[43m,\u001b[49m\u001b[43m \u001b[49m\u001b[43my\u001b[49m\u001b[43m,\u001b[49m\u001b[43m \u001b[49m\u001b[43msx\u001b[49m\u001b[43m,\u001b[49m\u001b[43m \u001b[49m\u001b[43msy\u001b[49m\u001b[43m)\u001b[49m\u001b[43m:\u001b[49m\n\u001b[0;32m      3\u001b[0m \u001b[43m        \u001b[49m\u001b[38;5;28;43mself\u001b[39;49m\u001b[38;5;241;43m.\u001b[39;49m\u001b[43msx\u001b[49m\u001b[43m \u001b[49m\u001b[38;5;241;43m=\u001b[39;49m\u001b[43m \u001b[49m\u001b[43msx\u001b[49m\u001b[43m \u001b[49m\u001b[38;5;66;43;03m#szerokość prostokąta\u001b[39;49;00m\n",
      "Cell \u001b[1;32mIn[211], line 21\u001b[0m, in \u001b[0;36mrect\u001b[1;34m()\u001b[0m\n\u001b[0;32m     18\u001b[0m         \u001b[38;5;28mself\u001b[39m\u001b[38;5;241m.\u001b[39mw[i][\u001b[38;5;241m0\u001b[39m] \u001b[38;5;241m=\u001b[39m \u001b[38;5;28mself\u001b[39m\u001b[38;5;241m.\u001b[39mw[i][\u001b[38;5;241m0\u001b[39m] \u001b[38;5;241m+\u001b[39m dx\n\u001b[0;32m     19\u001b[0m         \u001b[38;5;28mself\u001b[39m\u001b[38;5;241m.\u001b[39mw[i][\u001b[38;5;241m1\u001b[39m] \u001b[38;5;241m=\u001b[39m \u001b[38;5;28mself\u001b[39m\u001b[38;5;241m.\u001b[39mw[i][\u001b[38;5;241m1\u001b[39m] \u001b[38;5;241m+\u001b[39m dx\n\u001b[1;32m---> 21\u001b[0m \u001b[38;5;28;43mself\u001b[39;49m\u001b[38;5;241m.\u001b[39mmove(cx_copy, cy_copy)\n",
      "\u001b[1;31mNameError\u001b[0m: name 'self' is not defined"
     ]
    }
   ],
   "source": [
    "class rect:\n",
    "    def __init__(self, x, y, sx, sy):\n",
    "        self.sx = sx #szerokość prostokąta\n",
    "        self.sy = sy #wysokość prostokąta\n",
    "        self.cx = x + sx/2 #środek szerokości prostokąta \n",
    "        self.cy = y + sy/2 #środek wysokości prostokąta\n",
    "        self.w = [[x,y],[x+sx,y],[x+sx,y+sy],[x,y+sy]] #4 wierzchołki prostokąta\n",
    "\n",
    "    def __str__(self):\n",
    "        return f\"wierzchołek 1: {self.w[0]}, wierzchołek 2: {self.w[1]}, wierzchołek 3: {self.w[2]}, wierzchołek 4: {self.w[3]}\"\n",
    "    \n",
    "    def move(self, lista): #przesunięcie kwadratu\n",
    "        dx = lista[0]\n",
    "        dy = lista[1]\n",
    "        self.cx = self.cx + dx\n",
    "        self.cy = self.cy + dy\n",
    "        for i in range(4):\n",
    "            self.w[i][0] = self.w[i][0] + dx\n",
    "            self.w[i][1] = self.w[i][1] + dx\n",
    "\n",
    "    def scale(self, k):\n",
    "        cx_copy = self.cx\n",
    "        cy_copy = self.cy\n",
    "        d = [-cx_copy, -cy_copy]\n",
    "        self.move([-cx_copy, -cy_copy])\n",
    "        for i in range(4):\n",
    "            self.w[i][0] = self.w[i][0] *k # Pomnożenie wektorów przez współczynnik skali (k)\n",
    "            self.w[i][1] = self.w[i][1] *k\n",
    "        \n",
    "        self.move(cx_copy, cy_copy)\n",
    "\n",
    "\n"
   ]
  },
  {
   "cell_type": "code",
   "execution_count": 210,
   "metadata": {},
   "outputs": [
    {
     "ename": "TypeError",
     "evalue": "rect.move() takes 2 positional arguments but 3 were given",
     "output_type": "error",
     "traceback": [
      "\u001b[1;31m---------------------------------------------------------------------------\u001b[0m",
      "\u001b[1;31mTypeError\u001b[0m                                 Traceback (most recent call last)",
      "Cell \u001b[1;32mIn[210], line 2\u001b[0m\n\u001b[0;32m      1\u001b[0m p \u001b[38;5;241m=\u001b[39m rect(\u001b[38;5;241m1\u001b[39m,\u001b[38;5;241m1\u001b[39m,\u001b[38;5;241m2\u001b[39m,\u001b[38;5;241m2\u001b[39m)\n\u001b[1;32m----> 2\u001b[0m \u001b[43mp\u001b[49m\u001b[38;5;241;43m.\u001b[39;49m\u001b[43mscale\u001b[49m\u001b[43m(\u001b[49m\u001b[38;5;241;43m2\u001b[39;49m\u001b[43m)\u001b[49m\n",
      "Cell \u001b[1;32mIn[208], line 30\u001b[0m, in \u001b[0;36mrect.scale\u001b[1;34m(self, k)\u001b[0m\n\u001b[0;32m     27\u001b[0m     \u001b[38;5;28mself\u001b[39m\u001b[38;5;241m.\u001b[39mw[i][\u001b[38;5;241m0\u001b[39m] \u001b[38;5;241m=\u001b[39m \u001b[38;5;28mself\u001b[39m\u001b[38;5;241m.\u001b[39mw[i][\u001b[38;5;241m0\u001b[39m] \u001b[38;5;241m*\u001b[39mk \u001b[38;5;66;03m# Pomnożenie wektorów przez współczynnik skali (k)\u001b[39;00m\n\u001b[0;32m     28\u001b[0m     \u001b[38;5;28mself\u001b[39m\u001b[38;5;241m.\u001b[39mw[i][\u001b[38;5;241m1\u001b[39m] \u001b[38;5;241m=\u001b[39m \u001b[38;5;28mself\u001b[39m\u001b[38;5;241m.\u001b[39mw[i][\u001b[38;5;241m1\u001b[39m] \u001b[38;5;241m*\u001b[39mk\n\u001b[1;32m---> 30\u001b[0m \u001b[38;5;28;43mself\u001b[39;49m\u001b[38;5;241;43m.\u001b[39;49m\u001b[43mmove\u001b[49m\u001b[43m(\u001b[49m\u001b[43mcx_copy\u001b[49m\u001b[43m,\u001b[49m\u001b[43m \u001b[49m\u001b[43mcy_copy\u001b[49m\u001b[43m)\u001b[49m\n",
      "\u001b[1;31mTypeError\u001b[0m: rect.move() takes 2 positional arguments but 3 were given"
     ]
    }
   ],
   "source": [
    "p = rect(1,1,2,2)\n",
    "p.scale(2)"
   ]
  },
  {
   "cell_type": "markdown",
   "metadata": {},
   "source": [
    "Zadanie 3.25\n",
    "Utwórz program, który umożliwi dodawanie pracowników w postaci obiektów do listy w zakresie danych: imię, nazwisko, email, telefon. Następnie program wyświetli elementy listy obiektów wprowadzonych do listy."
   ]
  },
  {
   "cell_type": "code",
   "execution_count": 248,
   "metadata": {},
   "outputs": [],
   "source": [
    "class pracownik:\n",
    "    class pracownik:\n",
    "        def __init__(self, imie, nazwisko, email, telefon):\n",
    "            self.imie = imie\n",
    "            self.nazwisko = nazwisko\n",
    "            self.email = email\n",
    "            self.telefon = telefon\n",
    "        \n",
    "        def add(self, imie, nazwisko, email, telefon):\n",
    "            self.imie = imie\n",
    "            self.nazwisko = nazwisko\n",
    "            self.email = email\n",
    "            self.telefon = telefon\n",
    "\n",
    "    p = pracownik(\"name1\",\"surname1\",\"email1\",\"tel1\")\n",
    "    p.add(\"name2\", \"surname2\", \"email2\", \"tel2\")\n",
    "        \n",
    "    def database():\n",
    "        database = []\n",
    "        return database()\n"
   ]
  },
  {
   "cell_type": "code",
   "execution_count": 256,
   "metadata": {},
   "outputs": [],
   "source": [
    "class pracownik:\n",
    "    def __init__(self, imie, nazwisko, email, telefon):\n",
    "        self.imie = imie\n",
    "        self.nazwisko = nazwisko\n",
    "        self.email = email\n",
    "        self.telefon = telefon\n",
    "\n",
    "    def add(self, imie, nazwisko, email, telefon):\n",
    "        self.imie = imie\n",
    "        self.nazwisko = nazwisko\n",
    "        self.email = email\n",
    "        self.telefon = telefon\n"
   ]
  },
  {
   "cell_type": "code",
   "execution_count": 257,
   "metadata": {},
   "outputs": [],
   "source": [
    "p = pracownik(\"name1\",\"surname1\",\"email1\",\"tel1\")\n",
    "p.add(\"a\",\"b\",\"c\",\"d\")"
   ]
  }
 ],
 "metadata": {
  "kernelspec": {
   "display_name": "Python 3",
   "language": "python",
   "name": "python3"
  },
  "language_info": {
   "codemirror_mode": {
    "name": "ipython",
    "version": 3
   },
   "file_extension": ".py",
   "mimetype": "text/x-python",
   "name": "python",
   "nbconvert_exporter": "python",
   "pygments_lexer": "ipython3",
   "version": "3.11.5"
  }
 },
 "nbformat": 4,
 "nbformat_minor": 2
}
